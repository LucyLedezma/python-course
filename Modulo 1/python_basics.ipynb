{
 "cells": [
  {
   "cell_type": "markdown",
   "id": "59de4e39-93ce-4355-9569-a878449dc92d",
   "metadata": {},
   "source": [
    "# Trying python basics! -- Primeros Pasos en python!"
   ]
  },
  {
   "cell_type": "code",
   "execution_count": 1,
   "id": "a598c316-6883-413c-b092-3db5bfbce181",
   "metadata": {},
   "outputs": [
    {
     "data": {
      "text/plain": [
       "1500"
      ]
     },
     "execution_count": 1,
     "metadata": {},
     "output_type": "execute_result"
    }
   ],
   "source": [
    "30 * 50"
   ]
  },
  {
   "cell_type": "code",
   "execution_count": 2,
   "id": "fe2b8b80-6b5b-47b8-b001-ca93a6010e32",
   "metadata": {},
   "outputs": [
    {
     "name": "stdout",
     "output_type": "stream",
     "text": [
      "Python 3.13.7\n"
     ]
    }
   ],
   "source": [
    "!python --version"
   ]
  },
  {
   "cell_type": "code",
   "execution_count": 3,
   "id": "1617aedf-f371-4fc8-ab07-00fa44aee4c4",
   "metadata": {},
   "outputs": [
    {
     "name": "stdout",
     "output_type": "stream",
     "text": [
      " El volumen de la unidad C es Windows-SSD\n",
      " El n£mero de serie del volumen es: C246-F2CC\n",
      "\n",
      " Directorio de C:\\Users\\Lucy Ledezma Silva\\Documents\\courses\\Python\\own-courses\\python-course\\Modulo 1\n",
      "\n",
      "29/09/2025  23:10    <DIR>          .\n",
      "27/09/2025  15:21    <DIR>          ..\n",
      "29/09/2025  22:57    <DIR>          .ipynb_checkpoints\n",
      "29/09/2025  22:53             2.267 PrimerosPasos.Md\n",
      "29/09/2025  23:10             6.932 python_basics.ipynb\n",
      "01/07/2025  00:37            10.948 variables.ipynb\n",
      "               3 archivos         20.147 bytes\n",
      "               3 dirs  14.238.515.200 bytes libres\n"
     ]
    }
   ],
   "source": [
    "!dir"
   ]
  },
  {
   "cell_type": "code",
   "execution_count": 4,
   "id": "fe4f37df-8f77-4790-b374-9f3e065598e5",
   "metadata": {},
   "outputs": [
    {
     "data": {
      "text/plain": [
       "0.8"
      ]
     },
     "execution_count": 4,
     "metadata": {},
     "output_type": "execute_result"
    }
   ],
   "source": [
    "(30 + 50) / 100"
   ]
  },
  {
   "cell_type": "markdown",
   "id": "040d7893-6e60-42be-858b-0817a0443029",
   "metadata": {},
   "source": [
    "## errores de ejejcución"
   ]
  },
  {
   "cell_type": "code",
   "execution_count": 5,
   "id": "d782e154-0592-46f5-8b41-8bd2bf919385",
   "metadata": {},
   "outputs": [
    {
     "ename": "ZeroDivisionError",
     "evalue": "division by zero",
     "output_type": "error",
     "traceback": [
      "\u001b[31m---------------------------------------------------------------------------\u001b[39m",
      "\u001b[31mZeroDivisionError\u001b[39m                         Traceback (most recent call last)",
      "\u001b[36mCell\u001b[39m\u001b[36m \u001b[39m\u001b[32mIn[5]\u001b[39m\u001b[32m, line 1\u001b[39m\n\u001b[32m----> \u001b[39m\u001b[32m1\u001b[39m \u001b[32;43m1\u001b[39;49m\u001b[43m/\u001b[49m\u001b[32;43m0\u001b[39;49m \u001b[38;5;66;03m### no puedes dividir por cero y python ya lo tiene manejado!\u001b[39;00m\n",
      "\u001b[31mZeroDivisionError\u001b[39m: division by zero"
     ]
    }
   ],
   "source": [
    "1/0 ### no puedes dividir por cero y python ya lo tiene manejado!"
   ]
  },
  {
   "cell_type": "code",
   "execution_count": 7,
   "id": "aba257d7-c72a-485a-a648-969624aeb30d",
   "metadata": {},
   "outputs": [
    {
     "name": "stdout",
     "output_type": "stream",
     "text": [
      "4\n"
     ]
    }
   ],
   "source": [
    "print(4) ## no puedes escribir mal una función"
   ]
  },
  {
   "cell_type": "code",
   "execution_count": 8,
   "id": "48b2330a-e6d1-41d0-aaa3-3f3278b6befb",
   "metadata": {},
   "outputs": [],
   "source": [
    "## string\n",
    "my_var = \"\""
   ]
  },
  {
   "cell_type": "code",
   "execution_count": 9,
   "id": "aeddd5d0-ffe3-4eca-9152-71f3332f6653",
   "metadata": {},
   "outputs": [
    {
     "data": {
      "text/plain": [
       "0"
      ]
     },
     "execution_count": 9,
     "metadata": {},
     "output_type": "execute_result"
    }
   ],
   "source": [
    "len(my_var)"
   ]
  },
  {
   "cell_type": "markdown",
   "id": "1ee8892e-98ac-463d-87da-536275d3c1ed",
   "metadata": {},
   "source": [
    "## Funciones nativas"
   ]
  },
  {
   "cell_type": "code",
   "execution_count": 10,
   "id": "95ffcb04-311f-4c70-890f-31eb1d95919b",
   "metadata": {},
   "outputs": [
    {
     "name": "stdin",
     "output_type": "stream",
     "text": [
      "Ingresa tu nombre: Lucy\n"
     ]
    },
    {
     "name": "stdout",
     "output_type": "stream",
     "text": [
      "Hola, soy Lucy y esta es mi primer clase de python!!!\n"
     ]
    }
   ],
   "source": [
    "print(f'Hola, soy {input(\"Ingresa tu nombre:\")} y esta es mi primer clase de python!!!')"
   ]
  },
  {
   "cell_type": "code",
   "execution_count": 11,
   "id": "352dafa5-fcdd-4719-892b-4c8b87403468",
   "metadata": {},
   "outputs": [
    {
     "name": "stdout",
     "output_type": "stream",
     "text": [
      "Help on method raw_input in module ipykernel.kernelbase:\n",
      "\n",
      "raw_input(prompt='') method of ipykernel.ipkernel.IPythonKernel instance\n",
      "    Forward raw_input to frontends\n",
      "\n",
      "    Raises\n",
      "    ------\n",
      "    StdinNotImplementedError if active frontend doesn't support stdin.\n",
      "\n"
     ]
    }
   ],
   "source": [
    "help(input)"
   ]
  },
  {
   "cell_type": "code",
   "execution_count": 12,
   "id": "c049cb11-9ae5-47c4-ab6f-6cf97594bafe",
   "metadata": {},
   "outputs": [
    {
     "data": {
      "text/plain": [
       "float"
      ]
     },
     "execution_count": 12,
     "metadata": {},
     "output_type": "execute_result"
    }
   ],
   "source": [
    "type((30 + 50) / 100)"
   ]
  },
  {
   "cell_type": "code",
   "execution_count": 13,
   "id": "6a8c29b6-d407-42da-8aaa-7306558160f0",
   "metadata": {},
   "outputs": [
    {
     "data": {
      "text/plain": [
       "(True, True)"
      ]
     },
     "execution_count": 13,
     "metadata": {},
     "output_type": "execute_result"
    }
   ],
   "source": [
    "isinstance(30.0, float), isinstance(30, int)"
   ]
  },
  {
   "cell_type": "code",
   "execution_count": null,
   "id": "d962017c-e30b-424d-929f-b6b86a49d12a",
   "metadata": {},
   "outputs": [],
   "source": []
  }
 ],
 "metadata": {
  "kernelspec": {
   "display_name": "Python (my_environment)",
   "language": "python",
   "name": "my_environment"
  },
  "language_info": {
   "codemirror_mode": {
    "name": "ipython",
    "version": 3
   },
   "file_extension": ".py",
   "mimetype": "text/x-python",
   "name": "python",
   "nbconvert_exporter": "python",
   "pygments_lexer": "ipython3",
   "version": "3.13.7"
  }
 },
 "nbformat": 4,
 "nbformat_minor": 5
}
