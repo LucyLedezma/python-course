{
 "cells": [
  {
   "cell_type": "markdown",
   "id": "9b2dd506-cd98-4448-8332-4c23dec0eda7",
   "metadata": {},
   "source": [
    "# Python Variables"
   ]
  },
  {
   "cell_type": "code",
   "execution_count": 1,
   "id": "9d4a86e4-0542-4e60-ab09-0d858365d61c",
   "metadata": {},
   "outputs": [
    {
     "ename": "SyntaxError",
     "evalue": "invalid syntax (4243795348.py, line 1)",
     "output_type": "error",
     "traceback": [
      "\u001b[1;36m  Cell \u001b[1;32mIn[1], line 1\u001b[1;36m\u001b[0m\n\u001b[1;33m    . = 5\u001b[0m\n\u001b[1;37m    ^\u001b[0m\n\u001b[1;31mSyntaxError\u001b[0m\u001b[1;31m:\u001b[0m invalid syntax\n"
     ]
    }
   ],
   "source": [
    ". = 5"
   ]
  },
  {
   "cell_type": "code",
   "execution_count": 2,
   "id": "bc8bf680-c075-4a6d-a3a5-7aedd080e05a",
   "metadata": {},
   "outputs": [
    {
     "ename": "SyntaxError",
     "evalue": "unmatched '}' (3013615744.py, line 1)",
     "output_type": "error",
     "traceback": [
      "\u001b[1;36m  Cell \u001b[1;32mIn[2], line 1\u001b[1;36m\u001b[0m\n\u001b[1;33m    }var = 2\u001b[0m\n\u001b[1;37m    ^\u001b[0m\n\u001b[1;31mSyntaxError\u001b[0m\u001b[1;31m:\u001b[0m unmatched '}'\n"
     ]
    }
   ],
   "source": [
    "}var = 2"
   ]
  },
  {
   "cell_type": "code",
   "execution_count": 14,
   "id": "b8645365-476f-4451-b8f2-f3ebc64ff2d2",
   "metadata": {},
   "outputs": [],
   "source": [
    "_var = 12"
   ]
  },
  {
   "cell_type": "code",
   "execution_count": 15,
   "id": "97f1973c-5124-427e-920a-a483e0c8d5af",
   "metadata": {},
   "outputs": [
    {
     "data": {
      "text/plain": [
       "12"
      ]
     },
     "execution_count": 15,
     "metadata": {},
     "output_type": "execute_result"
    }
   ],
   "source": [
    "_var"
   ]
  },
  {
   "cell_type": "markdown",
   "id": "26d0c266-19fc-46cb-a83d-38a3f8d8d559",
   "metadata": {},
   "source": [
    "-- Qué conclusiones obtienes de las ejecuciones previas?"
   ]
  },
  {
   "cell_type": "raw",
   "id": "c125ab1a-164f-41f6-aaff-893b1c2e1fb5",
   "metadata": {},
   "source": [
    "-- Los nomnbres de las variables no deben ...."
   ]
  },
  {
   "cell_type": "code",
   "execution_count": 16,
   "id": "d5f8569b-8217-4ccd-81a2-c12c14cc5fb3",
   "metadata": {},
   "outputs": [],
   "source": [
    "_var = _var + 10"
   ]
  },
  {
   "cell_type": "code",
   "execution_count": 17,
   "id": "d2b1f199-586c-474c-970f-4a62f444f7fb",
   "metadata": {},
   "outputs": [
    {
     "data": {
      "text/plain": [
       "22"
      ]
     },
     "execution_count": 17,
     "metadata": {},
     "output_type": "execute_result"
    }
   ],
   "source": [
    "_var"
   ]
  },
  {
   "cell_type": "code",
   "execution_count": 18,
   "id": "ae30e8fd-f898-4bf7-92a9-5a71a253fba3",
   "metadata": {},
   "outputs": [],
   "source": [
    "## también puedes acomular de la siguiente forma en python\n",
    "_var += 10"
   ]
  },
  {
   "cell_type": "code",
   "execution_count": 19,
   "id": "36975be2-8a98-4a02-aacd-60c8ac101f15",
   "metadata": {},
   "outputs": [
    {
     "data": {
      "text/plain": [
       "32"
      ]
     },
     "execution_count": 19,
     "metadata": {},
     "output_type": "execute_result"
    }
   ],
   "source": [
    "_var"
   ]
  },
  {
   "cell_type": "code",
   "execution_count": 20,
   "id": "9af8a91a-daa1-4ac0-a3b9-44fd4fcd6a42",
   "metadata": {},
   "outputs": [],
   "source": [
    "other = _var\n",
    "other *= 2"
   ]
  },
  {
   "cell_type": "code",
   "execution_count": 21,
   "id": "64b90392-0abe-45d2-b3d4-9b9421cadbf3",
   "metadata": {},
   "outputs": [
    {
     "data": {
      "text/plain": [
       "(64, 32)"
      ]
     },
     "execution_count": 21,
     "metadata": {},
     "output_type": "execute_result"
    }
   ],
   "source": [
    "other, _var"
   ]
  },
  {
   "cell_type": "code",
   "execution_count": 23,
   "id": "47dc57c9-0d00-4732-89e1-82e3d9ef9e5f",
   "metadata": {},
   "outputs": [
    {
     "data": {
      "text/plain": [
       "'Hello World!'"
      ]
     },
     "execution_count": 23,
     "metadata": {},
     "output_type": "execute_result"
    }
   ],
   "source": [
    "## y si cambiamos el tipo de datos?\n",
    "## probemos asignarle un string!\n",
    "_var = \"Hello World!\"\n",
    "_var"
   ]
  },
  {
   "cell_type": "markdown",
   "id": "5edf63b1-5163-4469-aa03-fe48d7c374bd",
   "metadata": {},
   "source": [
    "-- Qué conclusiones obtienes de las ejecuciones anteriores? Python no es ..."
   ]
  },
  {
   "cell_type": "markdown",
   "id": "bf1b47cb-f15a-40f6-8dbb-769d0101bd7f",
   "metadata": {},
   "source": [
    "-- Ahora probemos operaciones entre variables!"
   ]
  },
  {
   "cell_type": "code",
   "execution_count": 24,
   "id": "d0c68c55-9ba0-4c18-bb58-51c6f1e924a6",
   "metadata": {},
   "outputs": [
    {
     "ename": "TypeError",
     "evalue": "can only concatenate str (not \"int\") to str",
     "output_type": "error",
     "traceback": [
      "\u001b[1;31m---------------------------------------------------------------------------\u001b[0m",
      "\u001b[1;31mTypeError\u001b[0m                                 Traceback (most recent call last)",
      "Cell \u001b[1;32mIn[24], line 1\u001b[0m\n\u001b[1;32m----> 1\u001b[0m \u001b[43m_var\u001b[49m\u001b[43m \u001b[49m\u001b[38;5;241;43m+\u001b[39;49m\u001b[43m \u001b[49m\u001b[43mother\u001b[49m\n",
      "\u001b[1;31mTypeError\u001b[0m: can only concatenate str (not \"int\") to str"
     ]
    }
   ],
   "source": [
    "_var + other"
   ]
  },
  {
   "cell_type": "code",
   "execution_count": 26,
   "id": "4726b6b0-2411-48cf-9f21-82b17c95327b",
   "metadata": {},
   "outputs": [
    {
     "ename": "TypeError",
     "evalue": "can't multiply sequence by non-int of type 'str'",
     "output_type": "error",
     "traceback": [
      "\u001b[1;31m---------------------------------------------------------------------------\u001b[0m",
      "\u001b[1;31mTypeError\u001b[0m                                 Traceback (most recent call last)",
      "Cell \u001b[1;32mIn[26], line 1\u001b[0m\n\u001b[1;32m----> 1\u001b[0m \u001b[43m_var\u001b[49m\u001b[43m \u001b[49m\u001b[38;5;241;43m*\u001b[39;49m\u001b[43m \u001b[49m\u001b[43m_var\u001b[49m\n",
      "\u001b[1;31mTypeError\u001b[0m: can't multiply sequence by non-int of type 'str'"
     ]
    }
   ],
   "source": [
    "_var * _var"
   ]
  },
  {
   "cell_type": "markdown",
   "id": "715f821a-3829-4d8b-9882-08cb55c05809",
   "metadata": {},
   "source": [
    "-- Qué conclusiones obtienes de las ejecuciones anteriores?"
   ]
  },
  {
   "cell_type": "raw",
   "id": "523e214e-6764-4f23-a32b-3f10c703d757",
   "metadata": {},
   "source": [
    "No podemos operar entre ...."
   ]
  },
  {
   "cell_type": "code",
   "execution_count": 27,
   "id": "b6283909-ffeb-46b8-8893-8cbe7345fca6",
   "metadata": {},
   "outputs": [
    {
     "data": {
      "text/plain": [
       "'Hello World!Hello World!Hello World!'"
      ]
     },
     "execution_count": 27,
     "metadata": {},
     "output_type": "execute_result"
    }
   ],
   "source": [
    "_var * 3"
   ]
  },
  {
   "cell_type": "code",
   "execution_count": 44,
   "id": "18594ec8-3fa1-47a4-be55-2dabf11f4688",
   "metadata": {},
   "outputs": [
    {
     "ename": "TypeError",
     "evalue": "can't multiply sequence by non-int of type 'float'",
     "output_type": "error",
     "traceback": [
      "\u001b[1;31m---------------------------------------------------------------------------\u001b[0m",
      "\u001b[1;31mTypeError\u001b[0m                                 Traceback (most recent call last)",
      "Cell \u001b[1;32mIn[44], line 1\u001b[0m\n\u001b[1;32m----> 1\u001b[0m \u001b[43m_var\u001b[49m\u001b[43m \u001b[49m\u001b[38;5;241;43m*\u001b[39;49m\u001b[43m \u001b[49m\u001b[38;5;241;43m0.3\u001b[39;49m\n",
      "\u001b[1;31mTypeError\u001b[0m: can't multiply sequence by non-int of type 'float'"
     ]
    }
   ],
   "source": [
    "_var * 0.3"
   ]
  },
  {
   "cell_type": "markdown",
   "id": "ebf41177-8a14-4180-82ce-66d26a674de6",
   "metadata": {},
   "source": [
    "## Ahora veamos una lista básica!"
   ]
  },
  {
   "cell_type": "code",
   "execution_count": 39,
   "id": "473c0d67-88af-40ee-8002-3840c4770228",
   "metadata": {},
   "outputs": [
    {
     "data": {
      "text/plain": [
       "[1]"
      ]
     },
     "execution_count": 39,
     "metadata": {},
     "output_type": "execute_result"
    }
   ],
   "source": [
    "\n",
    "my_list = [1]\n",
    "my_list"
   ]
  },
  {
   "cell_type": "code",
   "execution_count": 40,
   "id": "48010aa4-ed3e-419a-969b-8c55f66cae27",
   "metadata": {},
   "outputs": [
    {
     "ename": "TypeError",
     "evalue": "can only concatenate list (not \"int\") to list",
     "output_type": "error",
     "traceback": [
      "\u001b[1;31m---------------------------------------------------------------------------\u001b[0m",
      "\u001b[1;31mTypeError\u001b[0m                                 Traceback (most recent call last)",
      "Cell \u001b[1;32mIn[40], line 1\u001b[0m\n\u001b[1;32m----> 1\u001b[0m \u001b[43mmy_list\u001b[49m\u001b[43m \u001b[49m\u001b[38;5;241;43m+\u001b[39;49m\u001b[43m \u001b[49m\u001b[38;5;241;43m3\u001b[39;49m\n",
      "\u001b[1;31mTypeError\u001b[0m: can only concatenate list (not \"int\") to list"
     ]
    }
   ],
   "source": [
    "my_list + 3"
   ]
  },
  {
   "cell_type": "code",
   "execution_count": 41,
   "id": "6ee0b2bf-537f-462d-b54e-579356cba954",
   "metadata": {},
   "outputs": [
    {
     "data": {
      "text/plain": [
       "[1, 1, 1]"
      ]
     },
     "execution_count": 41,
     "metadata": {},
     "output_type": "execute_result"
    }
   ],
   "source": [
    "my_list * 3"
   ]
  },
  {
   "cell_type": "code",
   "execution_count": 42,
   "id": "64eba6d4-b305-453d-b0c1-41bdd69fc559",
   "metadata": {},
   "outputs": [
    {
     "data": {
      "text/plain": [
       "[1, 1]"
      ]
     },
     "execution_count": 42,
     "metadata": {},
     "output_type": "execute_result"
    }
   ],
   "source": [
    "my_list + my_list "
   ]
  },
  {
   "cell_type": "code",
   "execution_count": 43,
   "id": "64454b48-e35d-4e73-8f76-4b500da79bc0",
   "metadata": {},
   "outputs": [
    {
     "data": {
      "text/plain": [
       "[1, 1, 1]"
      ]
     },
     "execution_count": 43,
     "metadata": {},
     "output_type": "execute_result"
    }
   ],
   "source": [
    "my_list *= 3\n",
    "my_list"
   ]
  },
  {
   "cell_type": "markdown",
   "id": "819db514",
   "metadata": {},
   "source": [
    "## Direcciones de Memoria"
   ]
  },
  {
   "cell_type": "code",
   "execution_count": 8,
   "id": "1d356c1c",
   "metadata": {},
   "outputs": [],
   "source": [
    "x = [1, 2, 3]\n",
    "y = x\n",
    "z = [1, 2, 3]"
   ]
  },
  {
   "cell_type": "code",
   "execution_count": 9,
   "id": "da2b6c79",
   "metadata": {},
   "outputs": [
    {
     "name": "stdout",
     "output_type": "stream",
     "text": [
      "True\n",
      "False\n"
     ]
    }
   ],
   "source": [
    "print(x is y)\n",
    "print(x is z) "
   ]
  },
  {
   "cell_type": "code",
   "execution_count": 10,
   "id": "0f364007",
   "metadata": {},
   "outputs": [
    {
     "name": "stdout",
     "output_type": "stream",
     "text": [
      "1991715355136 1991715355136\n"
     ]
    }
   ],
   "source": [
    "# Esto sucede porque x e y apuntan a la misma dirección de memoria\n",
    "print(id(x), id(y))"
   ]
  },
  {
   "cell_type": "code",
   "execution_count": 11,
   "id": "8e94c554",
   "metadata": {},
   "outputs": [
    {
     "data": {
      "text/plain": [
       "([-1, 2, 3], [-1, 2, 3])"
      ]
     },
     "execution_count": 11,
     "metadata": {},
     "output_type": "execute_result"
    }
   ],
   "source": [
    "x[0] = -1\n",
    "x, y"
   ]
  },
  {
   "cell_type": "code",
   "execution_count": 6,
   "id": "c9b3ed99",
   "metadata": {},
   "outputs": [],
   "source": [
    "## TODO - Porqué cree usted que sucede esto?"
   ]
  },
  {
   "cell_type": "code",
   "execution_count": 13,
   "id": "ae89135b",
   "metadata": {},
   "outputs": [
    {
     "data": {
      "text/plain": [
       "([-1, 2, 7], [-1, 2, 7])"
      ]
     },
     "execution_count": 13,
     "metadata": {},
     "output_type": "execute_result"
    }
   ],
   "source": [
    "y[2] = 7\n",
    "x, y"
   ]
  },
  {
   "cell_type": "code",
   "execution_count": 14,
   "id": "4758bf4f",
   "metadata": {},
   "outputs": [
    {
     "data": {
      "text/plain": [
       "('0x1cfbb7c7a00', '0x1cfbb7c7a00')"
      ]
     },
     "execution_count": 14,
     "metadata": {},
     "output_type": "execute_result"
    }
   ],
   "source": [
    "## visualizar la dirección de memoria en hexadecimal\n",
    "hex(id(x)), hex(id(y))"
   ]
  }
 ],
 "metadata": {
  "kernelspec": {
   "display_name": "my_environment",
   "language": "python",
   "name": "python3"
  },
  "language_info": {
   "codemirror_mode": {
    "name": "ipython",
    "version": 3
   },
   "file_extension": ".py",
   "mimetype": "text/x-python",
   "name": "python",
   "nbconvert_exporter": "python",
   "pygments_lexer": "ipython3",
   "version": "3.13.7"
  }
 },
 "nbformat": 4,
 "nbformat_minor": 5
}
