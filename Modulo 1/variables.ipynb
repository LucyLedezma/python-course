{
 "cells": [
  {
   "cell_type": "markdown",
   "id": "9b2dd506-cd98-4448-8332-4c23dec0eda7",
   "metadata": {},
   "source": [
    "# Python Variables"
   ]
  },
  {
   "cell_type": "code",
   "execution_count": 167,
   "id": "1f0c816f-ccef-4c5d-8a67-dfca423bf5f4",
   "metadata": {},
   "outputs": [],
   "source": [
    " my_var = 1 ## my_var -> nombre de la variable -> 1"
   ]
  },
  {
   "cell_type": "code",
   "execution_count": 168,
   "id": "0ecb5c17-c91a-407a-8393-c46ba22dc1bb",
   "metadata": {},
   "outputs": [
    {
     "data": {
      "text/plain": [
       "1"
      ]
     },
     "execution_count": 168,
     "metadata": {},
     "output_type": "execute_result"
    }
   ],
   "source": [
    " my_var"
   ]
  },
  {
   "cell_type": "code",
   "execution_count": 169,
   "id": "9d4a86e4-0542-4e60-ab09-0d858365d61c",
   "metadata": {},
   "outputs": [
    {
     "ename": "SyntaxError",
     "evalue": "invalid syntax (2645501932.py, line 1)",
     "output_type": "error",
     "traceback": [
      "  \u001b[36mCell\u001b[39m\u001b[36m \u001b[39m\u001b[32mIn[169]\u001b[39m\u001b[32m, line 1\u001b[39m\n\u001b[31m    \u001b[39m\u001b[31m.m = 5\u001b[39m\n    ^\n\u001b[31mSyntaxError\u001b[39m\u001b[31m:\u001b[39m invalid syntax\n"
     ]
    }
   ],
   "source": [
    ".m = 5"
   ]
  },
  {
   "cell_type": "code",
   "execution_count": 170,
   "id": "bc8bf680-c075-4a6d-a3a5-7aedd080e05a",
   "metadata": {},
   "outputs": [
    {
     "ename": "SyntaxError",
     "evalue": "unmatched '}' (3013615744.py, line 1)",
     "output_type": "error",
     "traceback": [
      "  \u001b[36mCell\u001b[39m\u001b[36m \u001b[39m\u001b[32mIn[170]\u001b[39m\u001b[32m, line 1\u001b[39m\n\u001b[31m    \u001b[39m\u001b[31m}var = 2\u001b[39m\n    ^\n\u001b[31mSyntaxError\u001b[39m\u001b[31m:\u001b[39m unmatched '}'\n"
     ]
    }
   ],
   "source": [
    "}var = 2"
   ]
  },
  {
   "cell_type": "code",
   "execution_count": 172,
   "id": "60748eef-95d1-4cef-9726-08d26e4dcddb",
   "metadata": {},
   "outputs": [],
   "source": [
    "r32 = 23"
   ]
  },
  {
   "cell_type": "code",
   "execution_count": 173,
   "id": "724077d3-b029-4b40-ae1a-ddca67a6ab59",
   "metadata": {},
   "outputs": [
    {
     "ename": "SyntaxError",
     "evalue": "invalid syntax (2644998005.py, line 1)",
     "output_type": "error",
     "traceback": [
      "  \u001b[36mCell\u001b[39m\u001b[36m \u001b[39m\u001b[32mIn[173]\u001b[39m\u001b[32m, line 1\u001b[39m\n\u001b[31m    \u001b[39m\u001b[31mif = 20\u001b[39m\n       ^\n\u001b[31mSyntaxError\u001b[39m\u001b[31m:\u001b[39m invalid syntax\n"
     ]
    }
   ],
   "source": [
    "if = 20"
   ]
  },
  {
   "cell_type": "code",
   "execution_count": 174,
   "id": "fb393481-8095-43ac-a61c-86bb80ac092e",
   "metadata": {},
   "outputs": [],
   "source": [
    "Var = 10"
   ]
  },
  {
   "cell_type": "code",
   "execution_count": 175,
   "id": "0f0757c0-4fbd-479a-a793-0ba6cbf159be",
   "metadata": {},
   "outputs": [],
   "source": [
    "var = 20"
   ]
  },
  {
   "cell_type": "code",
   "execution_count": 176,
   "id": "a57b40fb-49a7-47fe-aebb-459786328ec2",
   "metadata": {},
   "outputs": [
    {
     "data": {
      "text/plain": [
       "(20, 10)"
      ]
     },
     "execution_count": 176,
     "metadata": {},
     "output_type": "execute_result"
    }
   ],
   "source": [
    "var, Var"
   ]
  },
  {
   "cell_type": "code",
   "execution_count": 177,
   "id": "b8645365-476f-4451-b8f2-f3ebc64ff2d2",
   "metadata": {},
   "outputs": [],
   "source": [
    "_var = 12"
   ]
  },
  {
   "cell_type": "code",
   "execution_count": 178,
   "id": "97f1973c-5124-427e-920a-a483e0c8d5af",
   "metadata": {},
   "outputs": [
    {
     "data": {
      "text/plain": [
       "12"
      ]
     },
     "execution_count": 178,
     "metadata": {},
     "output_type": "execute_result"
    }
   ],
   "source": [
    "_var"
   ]
  },
  {
   "cell_type": "markdown",
   "id": "26d0c266-19fc-46cb-a83d-38a3f8d8d559",
   "metadata": {},
   "source": [
    "-- Qué conclusiones obtienes de las ejecuciones previas?"
   ]
  },
  {
   "cell_type": "raw",
   "id": "c125ab1a-164f-41f6-aaff-893b1c2e1fb5",
   "metadata": {},
   "source": [
    "-- Los nomnbres de las variables no deben ...."
   ]
  },
  {
   "cell_type": "code",
   "execution_count": 179,
   "id": "d5f8569b-8217-4ccd-81a2-c12c14cc5fb3",
   "metadata": {},
   "outputs": [],
   "source": [
    "_var = _var + 10"
   ]
  },
  {
   "cell_type": "code",
   "execution_count": 180,
   "id": "d2b1f199-586c-474c-970f-4a62f444f7fb",
   "metadata": {},
   "outputs": [
    {
     "data": {
      "text/plain": [
       "22"
      ]
     },
     "execution_count": 180,
     "metadata": {},
     "output_type": "execute_result"
    }
   ],
   "source": [
    "_var"
   ]
  },
  {
   "cell_type": "code",
   "execution_count": 181,
   "id": "ae30e8fd-f898-4bf7-92a9-5a71a253fba3",
   "metadata": {},
   "outputs": [],
   "source": [
    "## también puedes acomular de la siguiente forma en python\n",
    "_var += 10"
   ]
  },
  {
   "cell_type": "code",
   "execution_count": 182,
   "id": "36975be2-8a98-4a02-aacd-60c8ac101f15",
   "metadata": {},
   "outputs": [
    {
     "data": {
      "text/plain": [
       "32"
      ]
     },
     "execution_count": 182,
     "metadata": {},
     "output_type": "execute_result"
    }
   ],
   "source": [
    "_var"
   ]
  },
  {
   "cell_type": "code",
   "execution_count": 183,
   "id": "9af8a91a-daa1-4ac0-a3b9-44fd4fcd6a42",
   "metadata": {},
   "outputs": [],
   "source": [
    "other = _var\n",
    "other *= 2"
   ]
  },
  {
   "cell_type": "code",
   "execution_count": 184,
   "id": "64b90392-0abe-45d2-b3d4-9b9421cadbf3",
   "metadata": {},
   "outputs": [
    {
     "data": {
      "text/plain": [
       "(64, 32)"
      ]
     },
     "execution_count": 184,
     "metadata": {},
     "output_type": "execute_result"
    }
   ],
   "source": [
    "other, _var"
   ]
  },
  {
   "cell_type": "code",
   "execution_count": 185,
   "id": "47dc57c9-0d00-4732-89e1-82e3d9ef9e5f",
   "metadata": {},
   "outputs": [
    {
     "data": {
      "text/plain": [
       "'Hello World!'"
      ]
     },
     "execution_count": 185,
     "metadata": {},
     "output_type": "execute_result"
    }
   ],
   "source": [
    "## y si cambiamos el tipo de datos?\n",
    "## probemos asignarle un string!\n",
    "_var = \"Hello World!\"\n",
    "_var"
   ]
  },
  {
   "cell_type": "markdown",
   "id": "5edf63b1-5163-4469-aa03-fe48d7c374bd",
   "metadata": {},
   "source": [
    "-- Qué conclusiones obtienes de las ejecuciones anteriores? Python no es ..."
   ]
  },
  {
   "cell_type": "markdown",
   "id": "bf1b47cb-f15a-40f6-8dbb-769d0101bd7f",
   "metadata": {},
   "source": [
    "-- Ahora probemos operaciones entre variables!"
   ]
  },
  {
   "cell_type": "code",
   "execution_count": 186,
   "id": "d0c68c55-9ba0-4c18-bb58-51c6f1e924a6",
   "metadata": {},
   "outputs": [
    {
     "ename": "TypeError",
     "evalue": "can only concatenate str (not \"int\") to str",
     "output_type": "error",
     "traceback": [
      "\u001b[31m---------------------------------------------------------------------------\u001b[39m",
      "\u001b[31mTypeError\u001b[39m                                 Traceback (most recent call last)",
      "\u001b[36mCell\u001b[39m\u001b[36m \u001b[39m\u001b[32mIn[186]\u001b[39m\u001b[32m, line 1\u001b[39m\n\u001b[32m----> \u001b[39m\u001b[32m1\u001b[39m \u001b[43m_var\u001b[49m\u001b[43m \u001b[49m\u001b[43m+\u001b[49m\u001b[43m \u001b[49m\u001b[43mother\u001b[49m\n",
      "\u001b[31mTypeError\u001b[39m: can only concatenate str (not \"int\") to str"
     ]
    }
   ],
   "source": [
    "_var + other"
   ]
  },
  {
   "cell_type": "code",
   "execution_count": 187,
   "id": "4726b6b0-2411-48cf-9f21-82b17c95327b",
   "metadata": {},
   "outputs": [
    {
     "ename": "TypeError",
     "evalue": "can't multiply sequence by non-int of type 'str'",
     "output_type": "error",
     "traceback": [
      "\u001b[31m---------------------------------------------------------------------------\u001b[39m",
      "\u001b[31mTypeError\u001b[39m                                 Traceback (most recent call last)",
      "\u001b[36mCell\u001b[39m\u001b[36m \u001b[39m\u001b[32mIn[187]\u001b[39m\u001b[32m, line 1\u001b[39m\n\u001b[32m----> \u001b[39m\u001b[32m1\u001b[39m \u001b[43m_var\u001b[49m\u001b[43m \u001b[49m\u001b[43m*\u001b[49m\u001b[43m \u001b[49m\u001b[43m_var\u001b[49m\n",
      "\u001b[31mTypeError\u001b[39m: can't multiply sequence by non-int of type 'str'"
     ]
    }
   ],
   "source": [
    "_var * _var"
   ]
  },
  {
   "cell_type": "markdown",
   "id": "715f821a-3829-4d8b-9882-08cb55c05809",
   "metadata": {},
   "source": [
    "-- Qué conclusiones obtienes de las ejecuciones anteriores?"
   ]
  },
  {
   "cell_type": "raw",
   "id": "523e214e-6764-4f23-a32b-3f10c703d757",
   "metadata": {},
   "source": [
    "No podemos operar entre ...."
   ]
  },
  {
   "cell_type": "code",
   "execution_count": 188,
   "id": "b6283909-ffeb-46b8-8893-8cbe7345fca6",
   "metadata": {},
   "outputs": [
    {
     "data": {
      "text/plain": [
       "'Hello World!Hello World!Hello World!'"
      ]
     },
     "execution_count": 188,
     "metadata": {},
     "output_type": "execute_result"
    }
   ],
   "source": [
    "_var * 3"
   ]
  },
  {
   "cell_type": "code",
   "execution_count": 189,
   "id": "18594ec8-3fa1-47a4-be55-2dabf11f4688",
   "metadata": {},
   "outputs": [
    {
     "ename": "TypeError",
     "evalue": "can't multiply sequence by non-int of type 'float'",
     "output_type": "error",
     "traceback": [
      "\u001b[31m---------------------------------------------------------------------------\u001b[39m",
      "\u001b[31mTypeError\u001b[39m                                 Traceback (most recent call last)",
      "\u001b[36mCell\u001b[39m\u001b[36m \u001b[39m\u001b[32mIn[189]\u001b[39m\u001b[32m, line 1\u001b[39m\n\u001b[32m----> \u001b[39m\u001b[32m1\u001b[39m \u001b[43m_var\u001b[49m\u001b[43m \u001b[49m\u001b[43m*\u001b[49m\u001b[43m \u001b[49m\u001b[32;43m0.3\u001b[39;49m\n",
      "\u001b[31mTypeError\u001b[39m: can't multiply sequence by non-int of type 'float'"
     ]
    }
   ],
   "source": [
    "_var * 0.3"
   ]
  },
  {
   "cell_type": "markdown",
   "id": "ebf41177-8a14-4180-82ce-66d26a674de6",
   "metadata": {},
   "source": [
    "## Ahora veamos una lista básica!"
   ]
  },
  {
   "cell_type": "code",
   "execution_count": 190,
   "id": "473c0d67-88af-40ee-8002-3840c4770228",
   "metadata": {},
   "outputs": [
    {
     "data": {
      "text/plain": [
       "[1]"
      ]
     },
     "execution_count": 190,
     "metadata": {},
     "output_type": "execute_result"
    }
   ],
   "source": [
    "\n",
    "my_list = [1]\n",
    "my_list"
   ]
  },
  {
   "cell_type": "code",
   "execution_count": 191,
   "id": "48010aa4-ed3e-419a-969b-8c55f66cae27",
   "metadata": {},
   "outputs": [
    {
     "ename": "TypeError",
     "evalue": "can only concatenate list (not \"int\") to list",
     "output_type": "error",
     "traceback": [
      "\u001b[31m---------------------------------------------------------------------------\u001b[39m",
      "\u001b[31mTypeError\u001b[39m                                 Traceback (most recent call last)",
      "\u001b[36mCell\u001b[39m\u001b[36m \u001b[39m\u001b[32mIn[191]\u001b[39m\u001b[32m, line 1\u001b[39m\n\u001b[32m----> \u001b[39m\u001b[32m1\u001b[39m \u001b[43mmy_list\u001b[49m\u001b[43m \u001b[49m\u001b[43m+\u001b[49m\u001b[43m \u001b[49m\u001b[32;43m3\u001b[39;49m\n",
      "\u001b[31mTypeError\u001b[39m: can only concatenate list (not \"int\") to list"
     ]
    }
   ],
   "source": [
    "my_list + 3"
   ]
  },
  {
   "cell_type": "code",
   "execution_count": 192,
   "id": "6ee0b2bf-537f-462d-b54e-579356cba954",
   "metadata": {},
   "outputs": [
    {
     "data": {
      "text/plain": [
       "[1, 1, 1]"
      ]
     },
     "execution_count": 192,
     "metadata": {},
     "output_type": "execute_result"
    }
   ],
   "source": [
    "my_list * 3"
   ]
  },
  {
   "cell_type": "code",
   "execution_count": 193,
   "id": "e56a44c5-0a17-4a47-85cb-b3e5f26cd7ad",
   "metadata": {},
   "outputs": [],
   "source": [
    "my_list_2 = [1, 1, 1]"
   ]
  },
  {
   "cell_type": "code",
   "execution_count": 194,
   "id": "212217b1-f207-4768-ac79-b0d80cc2b74d",
   "metadata": {},
   "outputs": [
    {
     "data": {
      "text/plain": [
       "[1, 1, 1, 1, 1, 1, 1, 1, 1]"
      ]
     },
     "execution_count": 194,
     "metadata": {},
     "output_type": "execute_result"
    }
   ],
   "source": [
    "my_list_2 * 3"
   ]
  },
  {
   "cell_type": "code",
   "execution_count": 195,
   "id": "64eba6d4-b305-453d-b0c1-41bdd69fc559",
   "metadata": {},
   "outputs": [
    {
     "data": {
      "text/plain": [
       "[1, 1]"
      ]
     },
     "execution_count": 195,
     "metadata": {},
     "output_type": "execute_result"
    }
   ],
   "source": [
    "my_list + my_list "
   ]
  },
  {
   "cell_type": "code",
   "execution_count": 196,
   "id": "64454b48-e35d-4e73-8f76-4b500da79bc0",
   "metadata": {},
   "outputs": [
    {
     "data": {
      "text/plain": [
       "[1, 1, 1]"
      ]
     },
     "execution_count": 196,
     "metadata": {},
     "output_type": "execute_result"
    }
   ],
   "source": [
    "my_list *= 3\n",
    "my_list"
   ]
  },
  {
   "cell_type": "markdown",
   "id": "819db514",
   "metadata": {},
   "source": [
    "## Direcciones de Memoria"
   ]
  },
  {
   "cell_type": "code",
   "execution_count": 199,
   "id": "1d356c1c",
   "metadata": {},
   "outputs": [],
   "source": [
    "x = [1, 2, 3]\n",
    "y = x\n",
    "z = [1, 2, 3]"
   ]
  },
  {
   "cell_type": "code",
   "execution_count": 200,
   "id": "da2b6c79",
   "metadata": {},
   "outputs": [
    {
     "name": "stdout",
     "output_type": "stream",
     "text": [
      "True\n",
      "False\n"
     ]
    }
   ],
   "source": [
    "print(x is y)\n",
    "print(x is z) "
   ]
  },
  {
   "cell_type": "code",
   "execution_count": 201,
   "id": "0f364007",
   "metadata": {},
   "outputs": [
    {
     "name": "stdout",
     "output_type": "stream",
     "text": [
      "2160985084416 2160985084416\n"
     ]
    }
   ],
   "source": [
    "# Esto sucede porque x e y apuntan a la misma dirección de memoria\n",
    "print(id(x), id(y))"
   ]
  },
  {
   "cell_type": "code",
   "execution_count": 202,
   "id": "8e94c554",
   "metadata": {},
   "outputs": [
    {
     "data": {
      "text/plain": [
       "([-1, 2, 3], [-1, 2, 3])"
      ]
     },
     "execution_count": 202,
     "metadata": {},
     "output_type": "execute_result"
    }
   ],
   "source": [
    "x[0] = -1\n",
    "x, y"
   ]
  },
  {
   "cell_type": "code",
   "execution_count": null,
   "id": "c9b3ed99",
   "metadata": {},
   "outputs": [],
   "source": [
    "## TODO - Porqué cree usted que sucede esto?"
   ]
  },
  {
   "cell_type": "code",
   "execution_count": 203,
   "id": "ae89135b",
   "metadata": {},
   "outputs": [
    {
     "data": {
      "text/plain": [
       "([-1, 2, 7], [-1, 2, 7])"
      ]
     },
     "execution_count": 203,
     "metadata": {},
     "output_type": "execute_result"
    }
   ],
   "source": [
    "y[2] = 7\n",
    "x, y"
   ]
  },
  {
   "cell_type": "code",
   "execution_count": 204,
   "id": "4758bf4f",
   "metadata": {},
   "outputs": [
    {
     "data": {
      "text/plain": [
       "('0x1f724bf9200', '0x1f724bf9200')"
      ]
     },
     "execution_count": 204,
     "metadata": {},
     "output_type": "execute_result"
    }
   ],
   "source": [
    "## visualizar la dirección de memoria en hexadecimal\n",
    "hex(id(x)), hex(id(y))"
   ]
  },
  {
   "cell_type": "markdown",
   "id": "59febdfa-2133-4d40-a15a-92af7a7b1058",
   "metadata": {},
   "source": [
    "## CONSTANTES"
   ]
  },
  {
   "cell_type": "code",
   "execution_count": 207,
   "id": "3a9cf0ab-6350-40e0-8ce7-a0aa2b20720f",
   "metadata": {},
   "outputs": [
    {
     "data": {
      "text/plain": [
       "1290"
      ]
     },
     "execution_count": 207,
     "metadata": {},
     "output_type": "execute_result"
    }
   ],
   "source": [
    "MY_CONSTANT = 1290\n",
    "MY_CONSTANT"
   ]
  },
  {
   "cell_type": "code",
   "execution_count": 208,
   "id": "bc08559d-0f5e-47bc-88d7-bafb8c010072",
   "metadata": {},
   "outputs": [
    {
     "data": {
      "text/plain": [
       "78"
      ]
     },
     "execution_count": 208,
     "metadata": {},
     "output_type": "execute_result"
    }
   ],
   "source": [
    "MY_CONSTANT = 78\n",
    "MY_CONSTANT"
   ]
  },
  {
   "cell_type": "code",
   "execution_count": null,
   "id": "fd6d2fa4-0308-4871-b8f8-f87e766cfebe",
   "metadata": {},
   "outputs": [],
   "source": []
  }
 ],
 "metadata": {
  "kernelspec": {
   "display_name": "Python 3 (ipykernel)",
   "language": "python",
   "name": "python3"
  },
  "language_info": {
   "codemirror_mode": {
    "name": "ipython",
    "version": 3
   },
   "file_extension": ".py",
   "mimetype": "text/x-python",
   "name": "python",
   "nbconvert_exporter": "python",
   "pygments_lexer": "ipython3",
   "version": "3.13.7"
  }
 },
 "nbformat": 4,
 "nbformat_minor": 5
}
