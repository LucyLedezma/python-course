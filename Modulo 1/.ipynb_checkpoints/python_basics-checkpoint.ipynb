{
 "cells": [
  {
   "cell_type": "markdown",
   "id": "59de4e39-93ce-4355-9569-a878449dc92d",
   "metadata": {},
   "source": [
    "# Trying python basics! -- Primeros Pasos en python!"
   ]
  },
  {
   "cell_type": "code",
   "execution_count": 3,
   "id": "a598c316-6883-413c-b092-3db5bfbce181",
   "metadata": {},
   "outputs": [
    {
     "data": {
      "text/plain": [
       "1500"
      ]
     },
     "execution_count": 3,
     "metadata": {},
     "output_type": "execute_result"
    }
   ],
   "source": [
    "30 * 50"
   ]
  },
  {
   "cell_type": "code",
   "execution_count": 2,
   "id": "fe2b8b80-6b5b-47b8-b001-ca93a6010e32",
   "metadata": {},
   "outputs": [
    {
     "name": "stdout",
     "output_type": "stream",
     "text": [
      "Python 3.10.5\n"
     ]
    }
   ],
   "source": [
    "! python --version"
   ]
  },
  {
   "cell_type": "code",
   "execution_count": 4,
   "id": "fe4f37df-8f77-4790-b374-9f3e065598e5",
   "metadata": {},
   "outputs": [
    {
     "data": {
      "text/plain": [
       "0.8"
      ]
     },
     "execution_count": 4,
     "metadata": {},
     "output_type": "execute_result"
    }
   ],
   "source": [
    "(30 + 50) / 100"
   ]
  },
  {
   "cell_type": "markdown",
   "id": "040d7893-6e60-42be-858b-0817a0443029",
   "metadata": {},
   "source": [
    "## errores de ejejcución"
   ]
  },
  {
   "cell_type": "code",
   "execution_count": 12,
   "id": "d782e154-0592-46f5-8b41-8bd2bf919385",
   "metadata": {},
   "outputs": [
    {
     "ename": "ZeroDivisionError",
     "evalue": "division by zero",
     "output_type": "error",
     "traceback": [
      "\u001b[1;31m---------------------------------------------------------------------------\u001b[0m",
      "\u001b[1;31mZeroDivisionError\u001b[0m                         Traceback (most recent call last)",
      "Cell \u001b[1;32mIn[12], line 1\u001b[0m\n\u001b[1;32m----> 1\u001b[0m \u001b[38;5;241;43m1\u001b[39;49m\u001b[38;5;241;43m/\u001b[39;49m\u001b[38;5;241;43m0\u001b[39;49m \u001b[38;5;66;03m### no puedes dividir por cero y python ya lo tiene manejado!\u001b[39;00m\n",
      "\u001b[1;31mZeroDivisionError\u001b[0m: division by zero"
     ]
    }
   ],
   "source": [
    "1/0 ### no puedes dividir por cero y python ya lo tiene manejado!"
   ]
  },
  {
   "cell_type": "code",
   "execution_count": 14,
   "id": "aba257d7-c72a-485a-a648-969624aeb30d",
   "metadata": {},
   "outputs": [
    {
     "ename": "NameError",
     "evalue": "name 'prin' is not defined",
     "output_type": "error",
     "traceback": [
      "\u001b[1;31m---------------------------------------------------------------------------\u001b[0m",
      "\u001b[1;31mNameError\u001b[0m                                 Traceback (most recent call last)",
      "Cell \u001b[1;32mIn[14], line 1\u001b[0m\n\u001b[1;32m----> 1\u001b[0m \u001b[43mprin\u001b[49m(\u001b[38;5;241m4\u001b[39m) \u001b[38;5;66;03m## no puedes escribir mal una función\u001b[39;00m\n",
      "\u001b[1;31mNameError\u001b[0m: name 'prin' is not defined"
     ]
    }
   ],
   "source": [
    "prin(4) ## no puedes escribir mal una función"
   ]
  },
  {
   "cell_type": "markdown",
   "id": "1ee8892e-98ac-463d-87da-536275d3c1ed",
   "metadata": {},
   "source": [
    "## Funciones nativas"
   ]
  },
  {
   "cell_type": "code",
   "execution_count": 11,
   "id": "95ffcb04-311f-4c70-890f-31eb1d95919b",
   "metadata": {},
   "outputs": [
    {
     "name": "stdin",
     "output_type": "stream",
     "text": [
      "Ingresa tu nombre: Lucia\n"
     ]
    },
    {
     "name": "stdout",
     "output_type": "stream",
     "text": [
      "Hola, soy Lucia y esta es mi primer clase de python!!!\n"
     ]
    }
   ],
   "source": [
    "print(f'Hola, soy {input(\"Ingresa tu nombre:\")} y esta es mi primer clase de python!!!')"
   ]
  },
  {
   "cell_type": "code",
   "execution_count": 15,
   "id": "352dafa5-fcdd-4719-892b-4c8b87403468",
   "metadata": {},
   "outputs": [
    {
     "name": "stdout",
     "output_type": "stream",
     "text": [
      "Help on method raw_input in module ipykernel.kernelbase:\n",
      "\n",
      "raw_input(prompt='') method of ipykernel.ipkernel.IPythonKernel instance\n",
      "    Forward raw_input to frontends\n",
      "    \n",
      "    Raises\n",
      "    ------\n",
      "    StdinNotImplementedError if active frontend doesn't support stdin.\n",
      "\n"
     ]
    }
   ],
   "source": [
    "help(input)"
   ]
  },
  {
   "cell_type": "code",
   "execution_count": 16,
   "id": "c049cb11-9ae5-47c4-ab6f-6cf97594bafe",
   "metadata": {},
   "outputs": [
    {
     "data": {
      "text/plain": [
       "float"
      ]
     },
     "execution_count": 16,
     "metadata": {},
     "output_type": "execute_result"
    }
   ],
   "source": [
    "type((30 + 50) / 100)"
   ]
  },
  {
   "cell_type": "code",
   "execution_count": 18,
   "id": "6a8c29b6-d407-42da-8aaa-7306558160f0",
   "metadata": {},
   "outputs": [
    {
     "data": {
      "text/plain": [
       "(False, True)"
      ]
     },
     "execution_count": 18,
     "metadata": {},
     "output_type": "execute_result"
    }
   ],
   "source": [
    "isinstance(30, float), isinstance(30, int)"
   ]
  }
 ],
 "metadata": {
  "kernelspec": {
   "display_name": "Python 3 (ipykernel)",
   "language": "python",
   "name": "python3"
  },
  "language_info": {
   "codemirror_mode": {
    "name": "ipython",
    "version": 3
   },
   "file_extension": ".py",
   "mimetype": "text/x-python",
   "name": "python",
   "nbconvert_exporter": "python",
   "pygments_lexer": "ipython3",
   "version": "3.10.5"
  }
 },
 "nbformat": 4,
 "nbformat_minor": 5
}
