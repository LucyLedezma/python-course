{
 "cells": [
  {
   "cell_type": "markdown",
   "id": "2b909564",
   "metadata": {},
   "source": [
    "## Scripting"
   ]
  },
  {
   "cell_type": "code",
   "execution_count": 2,
   "id": "a47b9885",
   "metadata": {},
   "outputs": [
    {
     "name": "stdout",
     "output_type": "stream",
     "text": [
      "Writing mi_script.py\n"
     ]
    }
   ],
   "source": [
    "%%writefile mi_script.py\n",
    "### Mi primer scipt de python\n",
    "## calcular el promedio de edades\n",
    "alumns = [{'name': 'Maria', 'surname': 'Acosta', 'age': 21}, \n",
    "          {'name': 'Martin', 'surname': 'Cáceres', 'age': 23},\n",
    "          {'name': 'Antonio', 'surname': 'Lopez', 'age': 19},\n",
    "          {'name': 'Laura', 'surname': 'Benitez', 'age': 21}\n",
    "         ]\n",
    "total_age = 0\n",
    "for i, alumn in enumerate(alumns):\n",
    "    print(f\"{i+1}Alumn: {alumn['name']} {alumn['surname']}\"\n",
    "          f\"age: {alumn['age']}\")\n",
    "    total_age += alumn['age']\n",
    "\n",
    "mean_age = total_age // len(alumns)\n",
    "\n",
    "print(f'Mean age: {mean_age}')"
   ]
  },
  {
   "cell_type": "code",
   "execution_count": null,
   "id": "491ec095",
   "metadata": {},
   "outputs": [],
   "source": [
    "!python mi_script.py"
   ]
  },
  {
   "cell_type": "code",
   "execution_count": null,
   "id": "34246fd7",
   "metadata": {},
   "outputs": [],
   "source": [
    "## Ejericicio 1. Entregable - Script para obtener la edad promedio\n",
    "## Con el script recién generado, ahora debes mejorarlo para que sea más escalable y reutilizable \n",
    "## TODO - El total de alumnos debe ser elegido por el usuario final.\n",
    "## TODO - Con una estructura iterativa debes ingresar los datos de cada alumno.\n",
    "## TODO - Ejecuta tu script nuevamente."
   ]
  },
  {
   "cell_type": "code",
   "execution_count": null,
   "id": "56a0c958",
   "metadata": {},
   "outputs": [],
   "source": [
    "## Ejercicio 2.\n",
    "## TODO - Genera un nuevo script python llamado numeros.py\n",
    "## TODO - dado un número inicial = 30 imprima todos los impares hasta llegar al valor buscado.\n",
    "## TODO  - Imprima si alguno de esos números impares es divisible por 3.\n",
    "## TODO - El número inicial debe ser solicitado al usuario."
   ]
  },
  {
   "cell_type": "markdown",
   "id": "8d73310d",
   "metadata": {},
   "source": [
    "## Controlar la ejecución del script de python"
   ]
  },
  {
   "cell_type": "code",
   "execution_count": null,
   "id": "731383d9",
   "metadata": {},
   "outputs": [],
   "source": []
  },
  {
   "cell_type": "code",
   "execution_count": null,
   "id": "59eeee27",
   "metadata": {},
   "outputs": [],
   "source": [
    "## TODO - importa tu script desde el shell de python y describe el comportamiento del script."
   ]
  },
  {
   "cell_type": "code",
   "execution_count": null,
   "id": "1f3cde3c",
   "metadata": {},
   "outputs": [],
   "source": [
    "## if __name__ == \"__main__\"\n",
    "## TODO - agrega el código desarrollado en una sección de verificación del programa si se encuentra en modo __main__\n",
    "## TODO - importa tu script desde el shell de python y describe el comportamiento del script."
   ]
  }
 ],
 "metadata": {
  "kernelspec": {
   "display_name": "my_environment",
   "language": "python",
   "name": "python3"
  },
  "language_info": {
   "codemirror_mode": {
    "name": "ipython",
    "version": 3
   },
   "file_extension": ".py",
   "mimetype": "text/x-python",
   "name": "python",
   "nbconvert_exporter": "python",
   "pygments_lexer": "ipython3",
   "version": "3.13.7"
  }
 },
 "nbformat": 4,
 "nbformat_minor": 5
}
