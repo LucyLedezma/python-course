{
 "cells": [
  {
   "cell_type": "markdown",
   "id": "2b909564",
   "metadata": {},
   "source": [
    "## Scipting"
   ]
  },
  {
   "cell_type": "code",
   "execution_count": null,
   "id": "a47b9885",
   "metadata": {},
   "outputs": [
    {
     "name": "stdout",
     "output_type": "stream",
     "text": [
      "Writing scripts/mi_script.py\n"
     ]
    }
   ],
   "source": [
    "%%writefile scripts/mi_script.py\n",
    "### Mi primer scipt de python\n",
    "## calcular el promedio de edades\n",
    "alumns = [{'name': 'Maria', 'surname': 'Acosta', 'age': 21}, \n",
    "          {'name': 'Martin', 'surname': 'Cáceres', 'age': 23},\n",
    "          {'name': 'Antonio', 'surname': 'Lopez', 'age': 19},\n",
    "          {'name': 'Laura', 'surname': 'Benitez', 'age': 21}\n",
    "         ]\n",
    "total_age = 0\n",
    "for i, alumn in enumerate(alumns):\n",
    "    print(f\"Alumn: {alumn['name']} {alumn['surname']}\"\n",
    "          f\"age: {alumn['age']}\")\n",
    "    total_age += alumn['age']\n",
    "\n",
    "mean_age = total_age // len(alumns)\n",
    "\n",
    "print(f'Mean age: {mean_age}')"
   ]
  },
  {
   "cell_type": "code",
   "execution_count": null,
   "id": "491ec095",
   "metadata": {},
   "outputs": [
    {
     "name": "stdout",
     "output_type": "stream",
     "text": [
      "Alumn: Maria Acostaage: 21\n",
      "Alumn: Martin Cáceresage: 23\n",
      "Alumn: Antonio Lopezage: 19\n",
      "Alumn: Laura Benitezage: 21\n",
      "Mean age: 21\n"
     ]
    }
   ],
   "source": [
    "!python scripts/mi_script.py"
   ]
  },
  {
   "cell_type": "code",
   "execution_count": null,
   "id": "34246fd7",
   "metadata": {},
   "outputs": [],
   "source": [
    "## Con el script recién generado, ahora debes mejorarlo para que sea más escalable y reutilizable \n",
    "## TODO - El total de alumnos debe ser elegido por el usuario final.\n",
    "## TODO - Con una estructura iterativa debes ingresar los datos de cada alumno.\n",
    "## TODO - Ejecuta tu script nuevamente."
   ]
  },
  {
   "cell_type": "code",
   "execution_count": null,
   "id": "56a0c958",
   "metadata": {},
   "outputs": [],
   "source": [
    "### TODO - Genera un nuevo script python llamado numeros.py\n",
    "### TODO - dado un número inicial = 30 imprima todos los impares hasta llegar al valor buscado.\n",
    "### TODO  - Imprima si alguno de esos números impares es divisible por 3.\n",
    "### TODO - El número inicial debe ser solicitado al usuario."
   ]
  },
  {
   "cell_type": "markdown",
   "id": "8d73310d",
   "metadata": {},
   "source": [
    "## Magic __name__"
   ]
  },
  {
   "cell_type": "code",
   "execution_count": null,
   "id": "59eeee27",
   "metadata": {},
   "outputs": [],
   "source": [
    "## TODO - importa tu script desde el shell de python y describe el comportamiento del script."
   ]
  },
  {
   "cell_type": "code",
   "execution_count": null,
   "id": "1f3cde3c",
   "metadata": {},
   "outputs": [],
   "source": [
    "## TODO - agrega el código desarrollado en una sección de verificación del programa si se encuentra en modo __main__\n",
    "## TODO - importa tu script desde el shell de python y describe el comportamiento del script."
   ]
  }
 ],
 "metadata": {
  "language_info": {
   "name": "python"
  }
 },
 "nbformat": 4,
 "nbformat_minor": 5
}
