{
 "cells": [
  {
   "cell_type": "markdown",
   "id": "10ad0409-02f0-40db-bd58-e66975cb74d5",
   "metadata": {},
   "source": [
    "## Listas"
   ]
  },
  {
   "cell_type": "code",
   "execution_count": 21,
   "id": "e8e10bfb-abfc-4433-9297-445a0ae0a3fb",
   "metadata": {},
   "outputs": [
    {
     "data": {
      "text/plain": [
       "([20, 4], list)"
      ]
     },
     "execution_count": 21,
     "metadata": {},
     "output_type": "execute_result"
    }
   ],
   "source": [
    "var_list = [20, 4]\n",
    "var_list, type(var_list)"
   ]
  },
  {
   "cell_type": "code",
   "execution_count": 22,
   "id": "1040354b-5e6c-4d7a-9c4a-712ca226e0e1",
   "metadata": {},
   "outputs": [],
   "source": [
    "## Agrega un elemento\n",
    "var_list = var_list + [1]"
   ]
  },
  {
   "cell_type": "code",
   "execution_count": 23,
   "id": "bc564489-1e93-43e4-b26f-2e34de0920bb",
   "metadata": {},
   "outputs": [
    {
     "data": {
      "text/plain": [
       "[20, 4, 1]"
      ]
     },
     "execution_count": 23,
     "metadata": {},
     "output_type": "execute_result"
    }
   ],
   "source": [
    "var_list"
   ]
  },
  {
   "cell_type": "raw",
   "id": "0181558e-2b73-4546-bbcc-f762b0de4c9b",
   "metadata": {},
   "source": [
    "### Como podemos ver las listas son objetos mutables"
   ]
  },
  {
   "cell_type": "code",
   "execution_count": 24,
   "id": "1f4ea1f5-46d7-4d08-b89a-a76f7e0258b9",
   "metadata": {},
   "outputs": [
    {
     "data": {
      "text/plain": [
       "[20, 4, 1]"
      ]
     },
     "execution_count": 24,
     "metadata": {},
     "output_type": "execute_result"
    }
   ],
   "source": [
    "var_list_2 = var_list\n",
    "var_list_2"
   ]
  },
  {
   "cell_type": "code",
   "execution_count": 25,
   "id": "efe1fc74-0863-4415-9d79-08e61c9ad50d",
   "metadata": {},
   "outputs": [
    {
     "data": {
      "text/plain": [
       "True"
      ]
     },
     "execution_count": 25,
     "metadata": {},
     "output_type": "execute_result"
    }
   ],
   "source": [
    "var_list_2 == var_list"
   ]
  },
  {
   "cell_type": "code",
   "execution_count": 26,
   "id": "b32c9691-3f75-4e7a-a89b-50bc6a82f092",
   "metadata": {},
   "outputs": [],
   "source": [
    "var_list_2[0] = -4"
   ]
  },
  {
   "cell_type": "code",
   "execution_count": 27,
   "id": "8c209685-d38b-4b53-957a-677d18cce1e3",
   "metadata": {},
   "outputs": [
    {
     "data": {
      "text/plain": [
       "[-4, 4, 1]"
      ]
     },
     "execution_count": 27,
     "metadata": {},
     "output_type": "execute_result"
    }
   ],
   "source": [
    "var_list_2"
   ]
  },
  {
   "cell_type": "markdown",
   "id": "9fb7e8a9-f43d-4377-940a-a3ead03d8e51",
   "metadata": {},
   "source": [
    "### ¿Qué sucedió co  el valor de var_list?"
   ]
  },
  {
   "cell_type": "code",
   "execution_count": 40,
   "id": "62c511b1-a12f-4658-8a2b-27c6dcba9469",
   "metadata": {},
   "outputs": [
    {
     "data": {
      "text/plain": [
       "[-4, 4]"
      ]
     },
     "execution_count": 40,
     "metadata": {},
     "output_type": "execute_result"
    }
   ],
   "source": [
    "var_list_2"
   ]
  },
  {
   "cell_type": "code",
   "execution_count": 41,
   "id": "ab579123-4321-47b7-9685-4936a6816058",
   "metadata": {},
   "outputs": [],
   "source": [
    "## A qué se debe este comportamiento?\n",
    "## Tengamos en cuenta que cuando asignamos una variable de tipo lista a otra variable, lo unico que hacemos es que la nueva\n",
    "## variable esté apuntando a la dirección de memoria de la anterior, y entonces todo cambio que realicemos sobre la lista se verá reflejada\n",
    "## en ambas variables"
   ]
  },
  {
   "cell_type": "code",
   "execution_count": 67,
   "id": "b1a6a76a-b945-44a0-9f06-f2b390798668",
   "metadata": {},
   "outputs": [
    {
     "data": {
      "text/plain": [
       "([-4, 4, 1], [-4, 4, 1])"
      ]
     },
     "execution_count": 67,
     "metadata": {},
     "output_type": "execute_result"
    }
   ],
   "source": [
    "## Si queremos que lso cambios en var_list_2 no se veann reflejados en var_list, entonces debemos generar una copia de var_list\n",
    "var_list_2 = var_list.copy()\n",
    "var_list_2, var_list"
   ]
  },
  {
   "cell_type": "code",
   "execution_count": 68,
   "id": "7d29bb0d-3d38-42fb-b272-6337e247afb6",
   "metadata": {},
   "outputs": [
    {
     "data": {
      "text/plain": [
       "([-4, 4, 0], [-4, 4, 1])"
      ]
     },
     "execution_count": 68,
     "metadata": {},
     "output_type": "execute_result"
    }
   ],
   "source": [
    "var_list_2[2] = 0\n",
    "var_list_2, var_list"
   ]
  },
  {
   "cell_type": "markdown",
   "id": "8a1bc606-7846-4b38-b478-cca9f7416df2",
   "metadata": {},
   "source": [
    "## Operaciones básicas con listas"
   ]
  },
  {
   "cell_type": "code",
   "execution_count": 69,
   "id": "a593371f-984b-4723-bcdc-b3e73426c938",
   "metadata": {},
   "outputs": [
    {
     "data": {
      "text/plain": [
       "[-4, 4, 0, 50]"
      ]
     },
     "execution_count": 69,
     "metadata": {},
     "output_type": "execute_result"
    }
   ],
   "source": [
    "## append: agrega un nuevo elemento al final de la lista\n",
    "var_list_2.append(50)\n",
    "var_list_2"
   ]
  },
  {
   "cell_type": "code",
   "execution_count": 70,
   "id": "9f243ad7-1da7-4fe2-817a-f17aa8d3c034",
   "metadata": {},
   "outputs": [
    {
     "data": {
      "text/plain": [
       "50"
      ]
     },
     "execution_count": 70,
     "metadata": {},
     "output_type": "execute_result"
    }
   ],
   "source": [
    "## pop: quita un elemento de la lista y returna el valor suprimido, (por defecto este será el último elemento)\n",
    "var_list_2.pop()"
   ]
  },
  {
   "cell_type": "code",
   "execution_count": 71,
   "id": "e9b48445-7785-4537-83f6-103404cd688d",
   "metadata": {},
   "outputs": [],
   "source": [
    "## Agregammos el elemento que quitamos usando el métoodo append\n",
    "var_list_2.append(50)"
   ]
  },
  {
   "cell_type": "code",
   "execution_count": 72,
   "id": "19b61a8d-30d2-4175-9b64-4c6073b7d5ca",
   "metadata": {},
   "outputs": [
    {
     "data": {
      "text/plain": [
       "-4"
      ]
     },
     "execution_count": 72,
     "metadata": {},
     "output_type": "execute_result"
    }
   ],
   "source": [
    "# quitamos un elemento en base a su índice.\n",
    "var_list_2.pop(0)"
   ]
  },
  {
   "cell_type": "code",
   "execution_count": 73,
   "id": "efa3cee6-9e24-42fe-ba8e-989adf4715c7",
   "metadata": {},
   "outputs": [
    {
     "data": {
      "text/plain": [
       "[4, 0, 50]"
      ]
     },
     "execution_count": 73,
     "metadata": {},
     "output_type": "execute_result"
    }
   ],
   "source": [
    "var_list_2"
   ]
  },
  {
   "cell_type": "code",
   "execution_count": 74,
   "id": "b3dcffe8-5f03-4051-8767-143fb77ce9cb",
   "metadata": {},
   "outputs": [
    {
     "data": {
      "text/plain": [
       "[4, 0]"
      ]
     },
     "execution_count": 74,
     "metadata": {},
     "output_type": "execute_result"
    }
   ],
   "source": [
    "## remove: remueve la primer ocurrencia del elemento dentro de la lista,\n",
    "var_list_2.remove(50)\n",
    "var_list_2"
   ]
  },
  {
   "cell_type": "code",
   "execution_count": 75,
   "id": "2a7975d8-a980-4f6e-a5c5-f9bf6a875ccf",
   "metadata": {},
   "outputs": [
    {
     "ename": "ValueError",
     "evalue": "list.remove(x): x not in list",
     "output_type": "error",
     "traceback": [
      "\u001b[1;31m---------------------------------------------------------------------------\u001b[0m",
      "\u001b[1;31mValueError\u001b[0m                                Traceback (most recent call last)",
      "Cell \u001b[1;32mIn[75], line 3\u001b[0m\n\u001b[0;32m      1\u001b[0m \u001b[38;5;66;03m## pero que sucede sin intentamos remover un elemento inexistente?, obtendremos una exepción\u001b[39;00m\n\u001b[1;32m----> 3\u001b[0m \u001b[43mvar_list_2\u001b[49m\u001b[38;5;241;43m.\u001b[39;49m\u001b[43mremove\u001b[49m\u001b[43m(\u001b[49m\u001b[38;5;241;43m50\u001b[39;49m\u001b[43m)\u001b[49m\n",
      "\u001b[1;31mValueError\u001b[0m: list.remove(x): x not in list"
     ]
    }
   ],
   "source": [
    "## pero que sucede sin intentamos remover un elemento inexistente?, obtendremos una exepción\n",
    "\n",
    "var_list_2.remove(50)"
   ]
  },
  {
   "cell_type": "code",
   "execution_count": 78,
   "id": "d383d8d8-e795-4902-8e76-b7d636d27a97",
   "metadata": {},
   "outputs": [
    {
     "data": {
      "text/plain": [
       "False"
      ]
     },
     "execution_count": 78,
     "metadata": {},
     "output_type": "execute_result"
    }
   ],
   "source": [
    "## entonces sería importnate poder confirmar su existencia antes de realizar esta operación\n",
    "##\n",
    "50 in var_list_2"
   ]
  },
  {
   "cell_type": "code",
   "execution_count": 81,
   "id": "313dc322-62ad-4b73-9bd5-21a2dc72846a",
   "metadata": {},
   "outputs": [
    {
     "data": {
      "text/plain": [
       "1"
      ]
     },
     "execution_count": 81,
     "metadata": {},
     "output_type": "execute_result"
    }
   ],
   "source": [
    "## index si sabemos de la existencia de un elemento dentro de una lista, es pocible localizar su índice\n",
    "## index: obtiene la posición de un elemento\n",
    "var_list_2.index(0)"
   ]
  },
  {
   "cell_type": "code",
   "execution_count": 89,
   "id": "1de6ccf3-6acc-4186-ac10-3464acf015ae",
   "metadata": {},
   "outputs": [
    {
     "data": {
      "text/plain": [
       "1"
      ]
     },
     "execution_count": 89,
     "metadata": {},
     "output_type": "execute_result"
    }
   ],
   "source": [
    "## tambien podemos contar las ocurrencias de un elemento\n",
    "var_list_2.count(0)"
   ]
  },
  {
   "cell_type": "code",
   "execution_count": 91,
   "id": "f3a009de-5b21-405d-996d-93bf3d3920ac",
   "metadata": {},
   "outputs": [
    {
     "data": {
      "text/plain": [
       "[]"
      ]
     },
     "execution_count": 91,
     "metadata": {},
     "output_type": "execute_result"
    }
   ],
   "source": [
    "## tambien podemos vaciar la lista !WARNING tengamos mucho cuidado con esta función, perderemos todos los elementos de la lista\n",
    "var_list_2.clear()\n",
    "var_list_2"
   ]
  },
  {
   "cell_type": "markdown",
   "id": "7928b8b3-d083-41a7-a306-4115cccde8de",
   "metadata": {},
   "source": [
    "### operaciones entre listas"
   ]
  },
  {
   "cell_type": "code",
   "execution_count": 92,
   "id": "45ac64dd-f34c-46e6-a6da-e67eb01f8379",
   "metadata": {},
   "outputs": [
    {
     "data": {
      "text/plain": [
       "[-4, 4, 1]"
      ]
     },
     "execution_count": 92,
     "metadata": {},
     "output_type": "execute_result"
    }
   ],
   "source": [
    "var_list_2 = var_list\n",
    "var_list_2"
   ]
  },
  {
   "cell_type": "code",
   "execution_count": 82,
   "id": "c28f2279-5df3-454d-ac94-294f27004a8e",
   "metadata": {},
   "outputs": [],
   "source": [
    "## Suma y extensión de lista"
   ]
  },
  {
   "cell_type": "code",
   "execution_count": 93,
   "id": "da13b309-1e20-464f-b53f-ed79fc272bae",
   "metadata": {},
   "outputs": [
    {
     "data": {
      "text/plain": [
       "[-4, 4, 1, 8]"
      ]
     },
     "execution_count": 93,
     "metadata": {},
     "output_type": "execute_result"
    }
   ],
   "source": [
    "var_list_2 + [8]"
   ]
  },
  {
   "cell_type": "code",
   "execution_count": 94,
   "id": "15c0e29b-eec4-42c3-84d4-acb9563b448b",
   "metadata": {},
   "outputs": [
    {
     "data": {
      "text/plain": [
       "[-4, 4, 1]"
      ]
     },
     "execution_count": 94,
     "metadata": {},
     "output_type": "execute_result"
    }
   ],
   "source": [
    "var_list_2 ### como no lo reasignamos entonces no se aplicó ningún cambio a var_list_2"
   ]
  },
  {
   "cell_type": "code",
   "execution_count": 95,
   "id": "40993935-8feb-4001-859a-0bd6e73e6cb5",
   "metadata": {},
   "outputs": [],
   "source": [
    "var_list_2.extend([8])"
   ]
  },
  {
   "cell_type": "code",
   "execution_count": 96,
   "id": "c1b59d75-e696-40a4-8f93-7400c57b24bb",
   "metadata": {},
   "outputs": [
    {
     "data": {
      "text/plain": [
       "[-4, 4, 1, 8]"
      ]
     },
     "execution_count": 96,
     "metadata": {},
     "output_type": "execute_result"
    }
   ],
   "source": [
    "var_list_2"
   ]
  },
  {
   "cell_type": "code",
   "execution_count": 97,
   "id": "6cf175f3-af96-4287-8c13-f033e21ff731",
   "metadata": {},
   "outputs": [
    {
     "data": {
      "text/plain": [
       "[-4, 4, 1, 8, -4, 4, 1, 8]"
      ]
     },
     "execution_count": 97,
     "metadata": {},
     "output_type": "execute_result"
    }
   ],
   "source": [
    "## cuando realizamos la multiplicación de una lista por un escalar k, \n",
    "## lo que estamos generando es un repetición de k veces de los elemento sde la lista\n",
    "var_list_2 * 2"
   ]
  },
  {
   "cell_type": "markdown",
   "id": "b7628165-8cdc-4d3c-b7bb-efe8a0c4b507",
   "metadata": {},
   "source": [
    "### Slicing"
   ]
  },
  {
   "cell_type": "code",
   "execution_count": 99,
   "id": "4ceb4ea6-7733-4803-8005-3a8e9c44920c",
   "metadata": {},
   "outputs": [
    {
     "data": {
      "text/plain": [
       "[-4, 4]"
      ]
     },
     "execution_count": 99,
     "metadata": {},
     "output_type": "execute_result"
    }
   ],
   "source": [
    "var_list_2[:2]"
   ]
  },
  {
   "cell_type": "code",
   "execution_count": 100,
   "id": "ec51c2d6-21c7-49a4-96ac-1aeed82e8be2",
   "metadata": {},
   "outputs": [
    {
     "data": {
      "text/plain": [
       "[-4, 1]"
      ]
     },
     "execution_count": 100,
     "metadata": {},
     "output_type": "execute_result"
    }
   ],
   "source": [
    "var_list_2[::2]"
   ]
  },
  {
   "cell_type": "code",
   "execution_count": 101,
   "id": "90ece20e-d237-4a1a-a800-406b589f2ab8",
   "metadata": {},
   "outputs": [
    {
     "data": {
      "text/plain": [
       "[4, 1]"
      ]
     },
     "execution_count": 101,
     "metadata": {},
     "output_type": "execute_result"
    }
   ],
   "source": [
    "var_list_2[1:3]"
   ]
  },
  {
   "cell_type": "code",
   "execution_count": 102,
   "id": "af42c222-e983-4beb-926e-c0ed9d1f3ffd",
   "metadata": {},
   "outputs": [
    {
     "data": {
      "text/plain": [
       "[8]"
      ]
     },
     "execution_count": 102,
     "metadata": {},
     "output_type": "execute_result"
    }
   ],
   "source": [
    "var_list_2[-1:]"
   ]
  },
  {
   "cell_type": "code",
   "execution_count": 103,
   "id": "ab975022-36b7-4d14-af15-70f6ebb65a97",
   "metadata": {},
   "outputs": [
    {
     "data": {
      "text/plain": [
       "[-4, 4, 1]"
      ]
     },
     "execution_count": 103,
     "metadata": {},
     "output_type": "execute_result"
    }
   ],
   "source": [
    "var_list_2[:-1]"
   ]
  },
  {
   "cell_type": "markdown",
   "id": "e0da481d",
   "metadata": {},
   "source": [
    "## Sets"
   ]
  },
  {
   "cell_type": "code",
   "execution_count": null,
   "id": "9756c163",
   "metadata": {},
   "outputs": [],
   "source": [
    "my_set = set()"
   ]
  },
  {
   "cell_type": "code",
   "execution_count": 6,
   "id": "17af5c61",
   "metadata": {},
   "outputs": [
    {
     "data": {
      "text/plain": [
       "{0}"
      ]
     },
     "execution_count": 6,
     "metadata": {},
     "output_type": "execute_result"
    }
   ],
   "source": [
    "my_set.add(0)\n",
    "my_set"
   ]
  },
  {
   "cell_type": "code",
   "execution_count": 8,
   "id": "9d209511",
   "metadata": {},
   "outputs": [
    {
     "data": {
      "text/plain": [
       "{0, 3, 4, 7}"
      ]
     },
     "execution_count": 8,
     "metadata": {},
     "output_type": "execute_result"
    }
   ],
   "source": [
    "my_set = my_set.union({0, 3, 4, 7})\n",
    "my_set"
   ]
  },
  {
   "cell_type": "code",
   "execution_count": 11,
   "id": "6b3bb109",
   "metadata": {},
   "outputs": [
    {
     "data": {
      "text/plain": [
       "0"
      ]
     },
     "execution_count": 11,
     "metadata": {},
     "output_type": "execute_result"
    }
   ],
   "source": [
    "my_set.pop()"
   ]
  },
  {
   "cell_type": "code",
   "execution_count": 16,
   "id": "0e199690",
   "metadata": {},
   "outputs": [
    {
     "data": {
      "text/plain": [
       "{7}"
      ]
     },
     "execution_count": 16,
     "metadata": {},
     "output_type": "execute_result"
    }
   ],
   "source": [
    "my_set.intersection({7})"
   ]
  },
  {
   "cell_type": "code",
   "execution_count": 18,
   "id": "ee98f99e",
   "metadata": {},
   "outputs": [
    {
     "ename": "TypeError",
     "evalue": "'set' object is not subscriptable",
     "output_type": "error",
     "traceback": [
      "\u001b[31m---------------------------------------------------------------------------\u001b[39m",
      "\u001b[31mTypeError\u001b[39m                                 Traceback (most recent call last)",
      "\u001b[36mCell\u001b[39m\u001b[36m \u001b[39m\u001b[32mIn[18]\u001b[39m\u001b[32m, line 1\u001b[39m\n\u001b[32m----> \u001b[39m\u001b[32m1\u001b[39m \u001b[43mmy_set\u001b[49m\u001b[43m[\u001b[49m\u001b[32;43m0\u001b[39;49m\u001b[43m]\u001b[49m \u001b[38;5;66;03m## no podemos acceder por posición, dado que no son colecciones ordenadas.\u001b[39;00m\n",
      "\u001b[31mTypeError\u001b[39m: 'set' object is not subscriptable"
     ]
    }
   ],
   "source": [
    "my_set[0] ## no podemos acceder por posición, dado que no son colecciones ordenadas."
   ]
  },
  {
   "cell_type": "markdown",
   "id": "e89d8b16",
   "metadata": {},
   "source": [
    "## Diccionarios"
   ]
  },
  {
   "cell_type": "code",
   "execution_count": 33,
   "id": "7ab87d81",
   "metadata": {},
   "outputs": [
    {
     "data": {
      "text/plain": [
       "{}"
      ]
     },
     "execution_count": 33,
     "metadata": {},
     "output_type": "execute_result"
    }
   ],
   "source": [
    "my_dict = dict()\n",
    "my_dict"
   ]
  },
  {
   "cell_type": "code",
   "execution_count": 34,
   "id": "b9bfe614",
   "metadata": {},
   "outputs": [
    {
     "data": {
      "text/plain": [
       "{'key_1': 100, 'key_2': 0}"
      ]
     },
     "execution_count": 34,
     "metadata": {},
     "output_type": "execute_result"
    }
   ],
   "source": [
    "my_dict['key_1'] = 100\n",
    "my_dict['key_2'] = 0\n",
    "my_dict"
   ]
  },
  {
   "cell_type": "code",
   "execution_count": 35,
   "id": "8abf2044",
   "metadata": {},
   "outputs": [
    {
     "data": {
      "text/plain": [
       "{'key_1': 'Hello', 'key_2': 0, 'key_3': 'world'}"
      ]
     },
     "execution_count": 35,
     "metadata": {},
     "output_type": "execute_result"
    }
   ],
   "source": [
    "aux_dict = {'key_1': \"Hello\", 'key_3': \"world\"}\n",
    "my_dict.update(aux_dict)\n",
    "my_dict"
   ]
  },
  {
   "cell_type": "code",
   "execution_count": 36,
   "id": "b7703543",
   "metadata": {},
   "outputs": [
    {
     "data": {
      "text/plain": [
       "{'key_1': 'Hi', 'key_2': 0, 'key_3': 'world'}"
      ]
     },
     "execution_count": 36,
     "metadata": {},
     "output_type": "execute_result"
    }
   ],
   "source": [
    "## otra forma de unir diccionarios\n",
    "aux_dict_2 = {'key_1': \"Hi\", 'key_3': \"world\"}\n",
    "my_dict = my_dict | aux_dict_2\n",
    "my_dict"
   ]
  },
  {
   "cell_type": "code",
   "execution_count": 37,
   "id": "f9385b9a",
   "metadata": {},
   "outputs": [
    {
     "data": {
      "text/plain": [
       "{'key_2': 0, 'key_3': 'world'}"
      ]
     },
     "execution_count": 37,
     "metadata": {},
     "output_type": "execute_result"
    }
   ],
   "source": [
    "## borrar\n",
    "my_dict.pop('key_1')\n",
    "my_dict"
   ]
  },
  {
   "cell_type": "code",
   "execution_count": null,
   "id": "47dd0788",
   "metadata": {},
   "outputs": [
    {
     "data": {
      "text/plain": [
       "'not found'"
      ]
     },
     "execution_count": 39,
     "metadata": {},
     "output_type": "execute_result"
    }
   ],
   "source": [
    "## obtener si existe el valor de una clave\n",
    "my_dict.get('key_1', 'not found') # por defecto devuelve None"
   ]
  },
  {
   "cell_type": "code",
   "execution_count": 24,
   "id": "2e001ced",
   "metadata": {},
   "outputs": [
    {
     "data": {
      "text/plain": [
       "dict_items([('key_1', 'Hello'), ('key_2', 0), ('key_3', 'world')])"
      ]
     },
     "execution_count": 24,
     "metadata": {},
     "output_type": "execute_result"
    }
   ],
   "source": [
    "my_dict.items()"
   ]
  },
  {
   "cell_type": "code",
   "execution_count": 25,
   "id": "bdb5de82",
   "metadata": {},
   "outputs": [
    {
     "data": {
      "text/plain": [
       "(dict_keys(['key_1', 'key_2', 'key_3']), dict_values(['Hello', 0, 'world']))"
      ]
     },
     "execution_count": 25,
     "metadata": {},
     "output_type": "execute_result"
    }
   ],
   "source": [
    "my_dict.keys(), my_dict.values()"
   ]
  }
 ],
 "metadata": {
  "kernelspec": {
   "display_name": "my_environment",
   "language": "python",
   "name": "python3"
  },
  "language_info": {
   "codemirror_mode": {
    "name": "ipython",
    "version": 3
   },
   "file_extension": ".py",
   "mimetype": "text/x-python",
   "name": "python",
   "nbconvert_exporter": "python",
   "pygments_lexer": "ipython3",
   "version": "3.13.7"
  }
 },
 "nbformat": 4,
 "nbformat_minor": 5
}
