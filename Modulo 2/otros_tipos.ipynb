{
 "cells": [
  {
   "cell_type": "markdown",
   "id": "10ad0409-02f0-40db-bd58-e66975cb74d5",
   "metadata": {},
   "source": [
    "## Listas"
   ]
  },
  {
   "cell_type": "code",
   "execution_count": null,
   "id": "e8e10bfb-abfc-4433-9297-445a0ae0a3fb",
   "metadata": {},
   "outputs": [],
   "source": [
    "var_list = [20, 4]\n",
    "var_list, type(var_list)"
   ]
  },
  {
   "cell_type": "code",
   "execution_count": null,
   "id": "7a3b9f0b-c102-4084-a0d9-796680e724a7",
   "metadata": {},
   "outputs": [],
   "source": [
    "len(var_list)"
   ]
  },
  {
   "cell_type": "code",
   "execution_count": null,
   "id": "1040354b-5e6c-4d7a-9c4a-712ca226e0e1",
   "metadata": {},
   "outputs": [],
   "source": [
    "## Agrega un elemento\n",
    "var_list = var_list + [1]"
   ]
  },
  {
   "cell_type": "code",
   "execution_count": null,
   "id": "bc564489-1e93-43e4-b26f-2e34de0920bb",
   "metadata": {},
   "outputs": [],
   "source": [
    "var_list"
   ]
  },
  {
   "cell_type": "raw",
   "id": "0181558e-2b73-4546-bbcc-f762b0de4c9b",
   "metadata": {},
   "source": [
    "### Como podemos ver las listas son objetos mutables"
   ]
  },
  {
   "cell_type": "code",
   "execution_count": null,
   "id": "1f4ea1f5-46d7-4d08-b89a-a76f7e0258b9",
   "metadata": {},
   "outputs": [],
   "source": [
    "var_list_2 = var_list\n",
    "var_list_2"
   ]
  },
  {
   "cell_type": "code",
   "execution_count": null,
   "id": "efe1fc74-0863-4415-9d79-08e61c9ad50d",
   "metadata": {},
   "outputs": [],
   "source": [
    "var_list_2 == var_list"
   ]
  },
  {
   "cell_type": "code",
   "execution_count": null,
   "id": "b32c9691-3f75-4e7a-a89b-50bc6a82f092",
   "metadata": {},
   "outputs": [],
   "source": [
    "var_list_2[0] = -4"
   ]
  },
  {
   "cell_type": "code",
   "execution_count": null,
   "id": "8c209685-d38b-4b53-957a-677d18cce1e3",
   "metadata": {},
   "outputs": [],
   "source": [
    "var_list_2"
   ]
  },
  {
   "cell_type": "markdown",
   "id": "9fb7e8a9-f43d-4377-940a-a3ead03d8e51",
   "metadata": {},
   "source": [
    "### ¿Qué sucedió co  el valor de var_list?"
   ]
  },
  {
   "cell_type": "code",
   "execution_count": null,
   "id": "826e6bca-bcb0-4b8e-bc79-aacd36160c06",
   "metadata": {},
   "outputs": [],
   "source": [
    "var_list_2 is var_list"
   ]
  },
  {
   "cell_type": "code",
   "execution_count": null,
   "id": "60194b3b-fcb8-44e1-a482-208898b81427",
   "metadata": {
    "scrolled": true
   },
   "outputs": [],
   "source": [
    "var_list"
   ]
  },
  {
   "cell_type": "code",
   "execution_count": null,
   "id": "62c511b1-a12f-4658-8a2b-27c6dcba9469",
   "metadata": {},
   "outputs": [],
   "source": [
    "var_list_2"
   ]
  },
  {
   "cell_type": "code",
   "execution_count": null,
   "id": "ab579123-4321-47b7-9685-4936a6816058",
   "metadata": {},
   "outputs": [],
   "source": [
    "## A qué se debe este comportamiento?\n",
    "## Tengamos en cuenta que cuando asignamos una variable de tipo lista a otra variable, lo unico que hacemos es que la nueva\n",
    "## variable esté apuntando a la dirección de memoria de la anterior, y entonces todo cambio que realicemos sobre la lista se verá reflejada\n",
    "## en ambas variables"
   ]
  },
  {
   "cell_type": "code",
   "execution_count": null,
   "id": "b1a6a76a-b945-44a0-9f06-f2b390798668",
   "metadata": {},
   "outputs": [],
   "source": [
    "## Si queremos que lso cambios en var_list_2 no se veann reflejados en var_list, entonces debemos generar una copia de var_list\n",
    "var_list_2 = var_list.copy()\n",
    "var_list_2, var_list"
   ]
  },
  {
   "cell_type": "code",
   "execution_count": null,
   "id": "7d29bb0d-3d38-42fb-b272-6337e247afb6",
   "metadata": {},
   "outputs": [],
   "source": [
    "var_list_2[2] = 0\n",
    "var_list_2, var_list"
   ]
  },
  {
   "cell_type": "markdown",
   "id": "8a1bc606-7846-4b38-b478-cca9f7416df2",
   "metadata": {},
   "source": [
    "## Operaciones básicas con listas"
   ]
  },
  {
   "cell_type": "code",
   "execution_count": null,
   "id": "a593371f-984b-4723-bcdc-b3e73426c938",
   "metadata": {},
   "outputs": [],
   "source": [
    "## append: agrega un nuevo elemento al final de la lista\n",
    "var_list_2.append(50)\n",
    "var_list_2"
   ]
  },
  {
   "cell_type": "code",
   "execution_count": null,
   "id": "9f243ad7-1da7-4fe2-817a-f17aa8d3c034",
   "metadata": {},
   "outputs": [],
   "source": [
    "## pop: quita un elemento de la lista y returna el valor suprimido, (por defecto este será el último elemento)\n",
    "var_list_2.pop()"
   ]
  },
  {
   "cell_type": "code",
   "execution_count": null,
   "id": "5d227ee9-8b96-4e32-9f49-e6ad692ec9e5",
   "metadata": {},
   "outputs": [],
   "source": [
    "var_list_2"
   ]
  },
  {
   "cell_type": "code",
   "execution_count": null,
   "id": "e9b48445-7785-4537-83f6-103404cd688d",
   "metadata": {},
   "outputs": [],
   "source": [
    "## Agregammos el elemento que quitamos usando el métoodo append\n",
    "var_list_2.append(50)\n",
    "var_list_2"
   ]
  },
  {
   "cell_type": "code",
   "execution_count": null,
   "id": "19b61a8d-30d2-4175-9b64-4c6073b7d5ca",
   "metadata": {},
   "outputs": [],
   "source": [
    "# quitamos un elemento en base a su índice.\n",
    "var_list_2.pop(0)"
   ]
  },
  {
   "cell_type": "code",
   "execution_count": null,
   "id": "efa3cee6-9e24-42fe-ba8e-989adf4715c7",
   "metadata": {},
   "outputs": [],
   "source": [
    "var_list_2"
   ]
  },
  {
   "cell_type": "code",
   "execution_count": null,
   "id": "b3dcffe8-5f03-4051-8767-143fb77ce9cb",
   "metadata": {},
   "outputs": [],
   "source": [
    "## remove: remueve la primer ocurrencia del elemento dentro de la lista,\n",
    "var_list_2.remove(50)\n",
    "var_list_2"
   ]
  },
  {
   "cell_type": "code",
   "execution_count": null,
   "id": "2a7975d8-a980-4f6e-a5c5-f9bf6a875ccf",
   "metadata": {},
   "outputs": [],
   "source": [
    "## pero que sucede sin intentamos remover un elemento inexistente?, obtendremos una exepción\n",
    "\n",
    "var_list_2.remove(50)"
   ]
  },
  {
   "cell_type": "code",
   "execution_count": null,
   "id": "d383d8d8-e795-4902-8e76-b7d636d27a97",
   "metadata": {},
   "outputs": [],
   "source": [
    "## entonces sería importnate poder confirmar su existencia antes de realizar esta operación\n",
    "##\n",
    "50 in var_list_2"
   ]
  },
  {
   "cell_type": "code",
   "execution_count": null,
   "id": "fb20e825-d722-43ec-ad9f-4590aff8854c",
   "metadata": {},
   "outputs": [],
   "source": [
    "var_list_2"
   ]
  },
  {
   "cell_type": "code",
   "execution_count": null,
   "id": "313dc322-62ad-4b73-9bd5-21a2dc72846a",
   "metadata": {},
   "outputs": [],
   "source": [
    "## index si sabemos de la existencia de un elemento dentro de una lista, es pocible localizar su índice\n",
    "## index: obtiene la posición de un elemento\n",
    "var_list_2.index(0)"
   ]
  },
  {
   "cell_type": "code",
   "execution_count": null,
   "id": "86489da6-f276-42a7-8b71-0aa84475837b",
   "metadata": {},
   "outputs": [],
   "source": [
    "var_list_2.index(100)"
   ]
  },
  {
   "cell_type": "code",
   "execution_count": null,
   "id": "6e19cf1a-11db-4eff-975b-7e675135ddf4",
   "metadata": {},
   "outputs": [],
   "source": [
    "var_list_2"
   ]
  },
  {
   "cell_type": "code",
   "execution_count": null,
   "id": "1de6ccf3-6acc-4186-ac10-3464acf015ae",
   "metadata": {},
   "outputs": [],
   "source": [
    "## tambien podemos contar las ocurrencias de un elemento\n",
    "var_list_2.count(45)"
   ]
  },
  {
   "cell_type": "code",
   "execution_count": null,
   "id": "f3a009de-5b21-405d-996d-93bf3d3920ac",
   "metadata": {},
   "outputs": [],
   "source": [
    "## tambien podemos vaciar la lista !WARNING tengamos mucho cuidado con esta función, perderemos todos los elementos de la lista\n",
    "var_list_2.clear()\n",
    "var_list_2"
   ]
  },
  {
   "cell_type": "markdown",
   "id": "7928b8b3-d083-41a7-a306-4115cccde8de",
   "metadata": {},
   "source": [
    "### operaciones entre listas"
   ]
  },
  {
   "cell_type": "code",
   "execution_count": null,
   "id": "45ac64dd-f34c-46e6-a6da-e67eb01f8379",
   "metadata": {},
   "outputs": [],
   "source": [
    "var_list_2 = var_list\n",
    "var_list_2"
   ]
  },
  {
   "cell_type": "code",
   "execution_count": null,
   "id": "c28f2279-5df3-454d-ac94-294f27004a8e",
   "metadata": {},
   "outputs": [],
   "source": [
    "## Suma y extensión de lista"
   ]
  },
  {
   "cell_type": "code",
   "execution_count": null,
   "id": "da13b309-1e20-464f-b53f-ed79fc272bae",
   "metadata": {},
   "outputs": [],
   "source": [
    "var_list_2 + [8]"
   ]
  },
  {
   "cell_type": "code",
   "execution_count": null,
   "id": "15c0e29b-eec4-42c3-84d4-acb9563b448b",
   "metadata": {},
   "outputs": [],
   "source": [
    "var_list_2 ### como no lo reasignamos entonces no se aplicó ningún cambio a var_list_2"
   ]
  },
  {
   "cell_type": "code",
   "execution_count": null,
   "id": "40993935-8feb-4001-859a-0bd6e73e6cb5",
   "metadata": {},
   "outputs": [],
   "source": [
    "var_list_2.extend([8])"
   ]
  },
  {
   "cell_type": "code",
   "execution_count": null,
   "id": "c1b59d75-e696-40a4-8f93-7400c57b24bb",
   "metadata": {},
   "outputs": [],
   "source": [
    "var_list_2"
   ]
  },
  {
   "cell_type": "code",
   "execution_count": null,
   "id": "6cf175f3-af96-4287-8c13-f033e21ff731",
   "metadata": {},
   "outputs": [],
   "source": [
    "## cuando realizamos la multiplicación de una lista por un escalar k, \n",
    "## lo que estamos generando es un repetición de k veces de los elemento sde la lista\n",
    "var_list_2 * 2"
   ]
  },
  {
   "cell_type": "markdown",
   "id": "b7628165-8cdc-4d3c-b7bb-efe8a0c4b507",
   "metadata": {},
   "source": [
    "### Slicing"
   ]
  },
  {
   "cell_type": "code",
   "execution_count": null,
   "id": "d36c3f95-166f-4ab4-9068-d503c957a301",
   "metadata": {},
   "outputs": [],
   "source": [
    "var_list_2 = [1, 4, 5, 7, 8]"
   ]
  },
  {
   "cell_type": "code",
   "execution_count": null,
   "id": "4ceb4ea6-7733-4803-8005-3a8e9c44920c",
   "metadata": {},
   "outputs": [],
   "source": [
    "var_list_2[1:2]"
   ]
  },
  {
   "cell_type": "code",
   "execution_count": null,
   "id": "ec51c2d6-21c7-49a4-96ac-1aeed82e8be2",
   "metadata": {},
   "outputs": [],
   "source": [
    "var_list_2[::2]"
   ]
  },
  {
   "cell_type": "code",
   "execution_count": null,
   "id": "90ece20e-d237-4a1a-a800-406b589f2ab8",
   "metadata": {},
   "outputs": [],
   "source": [
    "var_list_2[1:3]"
   ]
  },
  {
   "cell_type": "code",
   "execution_count": null,
   "id": "af42c222-e983-4beb-926e-c0ed9d1f3ffd",
   "metadata": {},
   "outputs": [],
   "source": [
    "var_list_2[-2:]"
   ]
  },
  {
   "cell_type": "code",
   "execution_count": null,
   "id": "ab975022-36b7-4d14-af15-70f6ebb65a97",
   "metadata": {},
   "outputs": [],
   "source": [
    "var_list_2[:-1]"
   ]
  },
  {
   "cell_type": "markdown",
   "id": "e0da481d",
   "metadata": {},
   "source": [
    "## Sets"
   ]
  },
  {
   "cell_type": "code",
   "execution_count": 62,
   "id": "9756c163",
   "metadata": {},
   "outputs": [],
   "source": [
    "my_set = set()"
   ]
  },
  {
   "cell_type": "code",
   "execution_count": 63,
   "id": "950792bf-778b-4697-8ea4-a75429924e1f",
   "metadata": {},
   "outputs": [
    {
     "data": {
      "text/plain": [
       "set()"
      ]
     },
     "execution_count": 63,
     "metadata": {},
     "output_type": "execute_result"
    }
   ],
   "source": [
    "my_set"
   ]
  },
  {
   "cell_type": "code",
   "execution_count": 64,
   "id": "b02b8fa5-452f-4b81-8eae-cd15ce1ebaac",
   "metadata": {},
   "outputs": [],
   "source": [
    "my_set = {1, \"r\", 20., \"Hello\"}"
   ]
  },
  {
   "cell_type": "code",
   "execution_count": 65,
   "id": "17af5c61",
   "metadata": {},
   "outputs": [
    {
     "data": {
      "text/plain": [
       "{0, 1, 20.0, 'Hello', 'r'}"
      ]
     },
     "execution_count": 65,
     "metadata": {},
     "output_type": "execute_result"
    }
   ],
   "source": [
    "my_set.add(0)\n",
    "my_set"
   ]
  },
  {
   "cell_type": "code",
   "execution_count": 66,
   "id": "aafc0a80-3958-44c1-be60-5942099ad77f",
   "metadata": {},
   "outputs": [
    {
     "data": {
      "text/plain": [
       "{0, 1, 20.0, 'Hello', 'r'}"
      ]
     },
     "execution_count": 66,
     "metadata": {},
     "output_type": "execute_result"
    }
   ],
   "source": [
    "my_set"
   ]
  },
  {
   "cell_type": "code",
   "execution_count": 67,
   "id": "b7da4363-e2d9-4c59-8026-8ab81c048217",
   "metadata": {},
   "outputs": [],
   "source": [
    "my_set.remove(20.0)"
   ]
  },
  {
   "cell_type": "code",
   "execution_count": 68,
   "id": "0314cb20-2bf9-40aa-9a5b-31b1c704f99c",
   "metadata": {},
   "outputs": [
    {
     "data": {
      "text/plain": [
       "{0, 1, 'Hello', 'r'}"
      ]
     },
     "execution_count": 68,
     "metadata": {},
     "output_type": "execute_result"
    }
   ],
   "source": [
    "my_set"
   ]
  },
  {
   "cell_type": "code",
   "execution_count": 70,
   "id": "29610787-2d5c-42f0-bc84-38a1391eadc8",
   "metadata": {},
   "outputs": [
    {
     "data": {
      "text/plain": [
       "1"
      ]
     },
     "execution_count": 70,
     "metadata": {},
     "output_type": "execute_result"
    }
   ],
   "source": [
    "my_set.pop()"
   ]
  },
  {
   "cell_type": "code",
   "execution_count": 71,
   "id": "9d209511",
   "metadata": {},
   "outputs": [
    {
     "data": {
      "text/plain": [
       "{0, 3, 4, 7, 'Hello', 'r'}"
      ]
     },
     "execution_count": 71,
     "metadata": {},
     "output_type": "execute_result"
    }
   ],
   "source": [
    "my_set = my_set.union({0, 3, 4, 7})\n",
    "my_set"
   ]
  },
  {
   "cell_type": "code",
   "execution_count": 72,
   "id": "0e199690",
   "metadata": {},
   "outputs": [
    {
     "data": {
      "text/plain": [
       "{7}"
      ]
     },
     "execution_count": 72,
     "metadata": {},
     "output_type": "execute_result"
    }
   ],
   "source": [
    "my_set.intersection({7})"
   ]
  },
  {
   "cell_type": "code",
   "execution_count": null,
   "id": "ee98f99e",
   "metadata": {},
   "outputs": [],
   "source": [
    "my_set[0] ## no podemos acceder por posición, dado que no son colecciones ordenadas."
   ]
  },
  {
   "cell_type": "markdown",
   "id": "e89d8b16",
   "metadata": {},
   "source": [
    "## Diccionarios"
   ]
  },
  {
   "cell_type": "code",
   "execution_count": 73,
   "id": "7ab87d81",
   "metadata": {},
   "outputs": [
    {
     "data": {
      "text/plain": [
       "{}"
      ]
     },
     "execution_count": 73,
     "metadata": {},
     "output_type": "execute_result"
    }
   ],
   "source": [
    "my_dict = dict()\n",
    "my_dict"
   ]
  },
  {
   "cell_type": "code",
   "execution_count": 74,
   "id": "59e10368-70c8-49f4-b98a-e10121d780b3",
   "metadata": {},
   "outputs": [],
   "source": [
    "my_dict = {}"
   ]
  },
  {
   "cell_type": "code",
   "execution_count": 75,
   "id": "b1ec2578-8ea4-4f30-a0ce-f66766d2a0de",
   "metadata": {},
   "outputs": [
    {
     "data": {
      "text/plain": [
       "dict"
      ]
     },
     "execution_count": 75,
     "metadata": {},
     "output_type": "execute_result"
    }
   ],
   "source": [
    "type(my_dict)"
   ]
  },
  {
   "cell_type": "code",
   "execution_count": 76,
   "id": "b9bfe614",
   "metadata": {},
   "outputs": [
    {
     "data": {
      "text/plain": [
       "{'key_1': 100, 'key_2': 0}"
      ]
     },
     "execution_count": 76,
     "metadata": {},
     "output_type": "execute_result"
    }
   ],
   "source": [
    "my_dict['key_1'] = 100\n",
    "my_dict['key_2'] = 0\n",
    "my_dict"
   ]
  },
  {
   "cell_type": "code",
   "execution_count": 77,
   "id": "8abf2044",
   "metadata": {},
   "outputs": [
    {
     "data": {
      "text/plain": [
       "{'key_1': 'Hello', 'key_2': 0, 'key_3': 'world'}"
      ]
     },
     "execution_count": 77,
     "metadata": {},
     "output_type": "execute_result"
    }
   ],
   "source": [
    "aux_dict = {'key_1': \"Hello\", 'key_3': \"world\"}\n",
    "my_dict.update(aux_dict)\n",
    "my_dict"
   ]
  },
  {
   "cell_type": "code",
   "execution_count": 79,
   "id": "b7703543",
   "metadata": {},
   "outputs": [
    {
     "data": {
      "text/plain": [
       "{'key_1': 'Hi', 'key_2': 0, 'key_3': 'world'}"
      ]
     },
     "execution_count": 79,
     "metadata": {},
     "output_type": "execute_result"
    }
   ],
   "source": [
    "## otra forma de unir diccionarios\n",
    "aux_dict_2 = {'key_1': \"Hi\", 'key_3': \"world\"}\n",
    "my_dict = my_dict | aux_dict_2\n",
    "my_dict"
   ]
  },
  {
   "cell_type": "code",
   "execution_count": 80,
   "id": "f9385b9a",
   "metadata": {},
   "outputs": [
    {
     "data": {
      "text/plain": [
       "{'key_2': 0, 'key_3': 'world'}"
      ]
     },
     "execution_count": 80,
     "metadata": {},
     "output_type": "execute_result"
    }
   ],
   "source": [
    "## borrar\n",
    "my_dict.pop('key_1')\n",
    "my_dict"
   ]
  },
  {
   "cell_type": "code",
   "execution_count": 81,
   "id": "09cb3015-73ef-4894-a80f-3a3d189c996b",
   "metadata": {},
   "outputs": [],
   "source": [
    "del(my_dict['key_3'])"
   ]
  },
  {
   "cell_type": "code",
   "execution_count": 82,
   "id": "00b39241-67f9-4fde-a031-773a9ac20da0",
   "metadata": {},
   "outputs": [
    {
     "data": {
      "text/plain": [
       "{'key_2': 0}"
      ]
     },
     "execution_count": 82,
     "metadata": {},
     "output_type": "execute_result"
    }
   ],
   "source": [
    "my_dict"
   ]
  },
  {
   "cell_type": "code",
   "execution_count": 84,
   "id": "29548bc3-a47f-443b-8f62-1fc48e1afe53",
   "metadata": {},
   "outputs": [
    {
     "ename": "KeyError",
     "evalue": "'key_1'",
     "output_type": "error",
     "traceback": [
      "\u001b[31m---------------------------------------------------------------------------\u001b[39m",
      "\u001b[31mKeyError\u001b[39m                                  Traceback (most recent call last)",
      "\u001b[36mCell\u001b[39m\u001b[36m \u001b[39m\u001b[32mIn[84]\u001b[39m\u001b[32m, line 1\u001b[39m\n\u001b[32m----> \u001b[39m\u001b[32m1\u001b[39m \u001b[43mmy_dict\u001b[49m\u001b[43m[\u001b[49m\u001b[33;43m'\u001b[39;49m\u001b[33;43mkey_1\u001b[39;49m\u001b[33;43m'\u001b[39;49m\u001b[43m]\u001b[49m\n",
      "\u001b[31mKeyError\u001b[39m: 'key_1'"
     ]
    }
   ],
   "source": [
    "my_dict['key_1']"
   ]
  },
  {
   "cell_type": "code",
   "execution_count": 87,
   "id": "47dd0788",
   "metadata": {},
   "outputs": [],
   "source": [
    "## obtener si existe el valor de una clave\n",
    "result = my_dict.get('key_1') # por defecto devuelve None"
   ]
  },
  {
   "cell_type": "code",
   "execution_count": 89,
   "id": "c70657e7-51f5-4a84-9f79-1a7ed0ec6ce6",
   "metadata": {},
   "outputs": [
    {
     "data": {
      "text/plain": [
       "True"
      ]
     },
     "execution_count": 89,
     "metadata": {},
     "output_type": "execute_result"
    }
   ],
   "source": [
    "result is None"
   ]
  },
  {
   "cell_type": "code",
   "execution_count": 91,
   "id": "2e001ced",
   "metadata": {},
   "outputs": [
    {
     "data": {
      "text/plain": [
       "[('key_2', 0)]"
      ]
     },
     "execution_count": 91,
     "metadata": {},
     "output_type": "execute_result"
    }
   ],
   "source": [
    "list(my_dict.items())"
   ]
  },
  {
   "cell_type": "code",
   "execution_count": 92,
   "id": "bdb5de82",
   "metadata": {},
   "outputs": [
    {
     "data": {
      "text/plain": [
       "(dict_keys(['key_2']), dict_values([0]))"
      ]
     },
     "execution_count": 92,
     "metadata": {},
     "output_type": "execute_result"
    }
   ],
   "source": [
    "my_dict.keys(), my_dict.values()"
   ]
  },
  {
   "cell_type": "code",
   "execution_count": null,
   "id": "b0cb95f6-b05d-48ed-89d9-989ff76bd13b",
   "metadata": {},
   "outputs": [],
   "source": [
    "## podemos usar cualquiera de los tipos de datos básicos para las claves."
   ]
  },
  {
   "cell_type": "markdown",
   "id": "9c8b155b-a446-4fb4-8df7-6d2aadf96801",
   "metadata": {},
   "source": [
    "## TUPLAS"
   ]
  },
  {
   "cell_type": "code",
   "execution_count": 93,
   "id": "12c86c7a-0408-41be-bf31-4a8f674e557b",
   "metadata": {},
   "outputs": [],
   "source": [
    "my_tuple = (1, 45)\n",
    "my_tuple_2 = ('r', True)"
   ]
  },
  {
   "cell_type": "code",
   "execution_count": 94,
   "id": "0325e34c-41a1-4465-b515-aac6f073838c",
   "metadata": {},
   "outputs": [
    {
     "data": {
      "text/plain": [
       "1"
      ]
     },
     "execution_count": 94,
     "metadata": {},
     "output_type": "execute_result"
    }
   ],
   "source": [
    "my_tuple[0]"
   ]
  },
  {
   "cell_type": "code",
   "execution_count": 95,
   "id": "688e58ed-fd91-4712-9702-7f904ef12d11",
   "metadata": {},
   "outputs": [],
   "source": [
    "result_tuple = my_tuple + my_tuple_2"
   ]
  },
  {
   "cell_type": "code",
   "execution_count": 96,
   "id": "0db0c1bb-1ffb-4564-8576-2b2fa047faf7",
   "metadata": {},
   "outputs": [
    {
     "data": {
      "text/plain": [
       "(1, 45, 'r', True)"
      ]
     },
     "execution_count": 96,
     "metadata": {},
     "output_type": "execute_result"
    }
   ],
   "source": [
    "result_tuple"
   ]
  },
  {
   "cell_type": "code",
   "execution_count": 97,
   "id": "fd0c66c4-d946-4e5a-8967-07c8e127c06e",
   "metadata": {},
   "outputs": [
    {
     "data": {
      "text/plain": [
       "(45, 'r')"
      ]
     },
     "execution_count": 97,
     "metadata": {},
     "output_type": "execute_result"
    }
   ],
   "source": [
    "result_tuple[1:3]"
   ]
  },
  {
   "cell_type": "code",
   "execution_count": 98,
   "id": "5061a57d-f9b6-43ce-aeb5-9b8b17370d2d",
   "metadata": {},
   "outputs": [
    {
     "ename": "TypeError",
     "evalue": "'tuple' object does not support item assignment",
     "output_type": "error",
     "traceback": [
      "\u001b[31m---------------------------------------------------------------------------\u001b[39m",
      "\u001b[31mTypeError\u001b[39m                                 Traceback (most recent call last)",
      "\u001b[36mCell\u001b[39m\u001b[36m \u001b[39m\u001b[32mIn[98]\u001b[39m\u001b[32m, line 1\u001b[39m\n\u001b[32m----> \u001b[39m\u001b[32m1\u001b[39m \u001b[43mmy_tuple\u001b[49m\u001b[43m[\u001b[49m\u001b[32;43m0\u001b[39;49m\u001b[43m]\u001b[49m = \u001b[32m2\u001b[39m\n",
      "\u001b[31mTypeError\u001b[39m: 'tuple' object does not support item assignment"
     ]
    }
   ],
   "source": [
    "my_tuple[0] = 2"
   ]
  }
 ],
 "metadata": {
  "kernelspec": {
   "display_name": "Python 3 (ipykernel)",
   "language": "python",
   "name": "python3"
  },
  "language_info": {
   "codemirror_mode": {
    "name": "ipython",
    "version": 3
   },
   "file_extension": ".py",
   "mimetype": "text/x-python",
   "name": "python",
   "nbconvert_exporter": "python",
   "pygments_lexer": "ipython3",
   "version": "3.13.7"
  }
 },
 "nbformat": 4,
 "nbformat_minor": 5
}
