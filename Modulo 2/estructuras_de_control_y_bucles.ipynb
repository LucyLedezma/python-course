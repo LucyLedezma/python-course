{
 "cells": [
  {
   "cell_type": "markdown",
   "id": "cdce14be-2eae-40de-834d-d85d464a744e",
   "metadata": {},
   "source": [
    "## Estructuras de control"
   ]
  },
  {
   "cell_type": "markdown",
   "id": "b896edc6-b45f-4079-a793-80ba6960b9a4",
   "metadata": {},
   "source": [
    "### Condicionales"
   ]
  },
  {
   "cell_type": "code",
   "execution_count": 30,
   "id": "e4804a12-fc6d-4d6b-8709-21e56d4e458b",
   "metadata": {},
   "outputs": [
    {
     "name": "stdout",
     "output_type": "stream",
     "text": [
      "300 > -10\n"
     ]
    }
   ],
   "source": [
    "a = 300\n",
    "b = -10\n",
    "if a > b:\n",
    "\tprint(f'{a} > {b}')\n",
    "elif a == b:\n",
    "\tprint(f'{a} = {b}')\n",
    "else:\n",
    "\tprint(f'{a} < {b}')"
   ]
  },
  {
   "cell_type": "code",
   "execution_count": 31,
   "id": "e43be6c6-9fe9-40f5-a100-9ab5fbda735e",
   "metadata": {},
   "outputs": [
    {
     "name": "stdout",
     "output_type": "stream",
     "text": [
      "son equivalentes\n"
     ]
    }
   ],
   "source": [
    "## cuando estamos programando, en muchas ocaciones necesitaremos realizar acciones basándonos en ciertas situaciones.\n",
    "if 2 == 2:\n",
    "    print('son equivalentes')"
   ]
  },
  {
   "cell_type": "code",
   "execution_count": 32,
   "id": "81cb7f51",
   "metadata": {},
   "outputs": [
    {
     "data": {
      "text/plain": [
       "'5 is not greater than 10'"
      ]
     },
     "execution_count": 32,
     "metadata": {},
     "output_type": "execute_result"
    }
   ],
   "source": [
    "## SHORT conditions - Condiciones en una sola linea\n",
    "a = 5\n",
    "b = 10\n",
    "result = f\"{a} is greater than {b}\" if a > b else f\"{a} is not greater than {b}\"\n",
    "result"
   ]
  },
  {
   "cell_type": "code",
   "execution_count": 33,
   "id": "e68aec8f-7548-4b51-8784-b2605fcd6d74",
   "metadata": {},
   "outputs": [
    {
     "name": "stdout",
     "output_type": "stream",
     "text": [
      "se imprima 2\n",
      "se imprima hello\n",
      "se imprima 2\n"
     ]
    }
   ],
   "source": [
    "# la instrución if nos permite realizar operaciones en base a determinada condición, perooo\n",
    "if 2:\n",
    "    print('se imprima 2') #### =?????\n",
    "    \n",
    "if 'hello':\n",
    "    print('se imprima hello')\n",
    "\n",
    "if []:\n",
    "    print('se imprime lista')\n",
    "if '':\n",
    "    print('se imprime string vacío')\n",
    "if None:\n",
    "    print('se imprime None')\n",
    "if 2 or []:\n",
    "    print('se imprima 2') \n"
   ]
  },
  {
   "cell_type": "code",
   "execution_count": 20,
   "id": "87a5e06a-5efd-4e01-bc90-8e26b48de4ee",
   "metadata": {},
   "outputs": [],
   "source": [
    "### Esto sucede porque python toma como condición válida a cualquier valor no nullo, y como falso a cualquier valor nulo"
   ]
  },
  {
   "cell_type": "markdown",
   "id": "fd62603e-5976-4bb2-bcd3-0f90b4cd7b2b",
   "metadata": {},
   "source": [
    "--- Podemos anidar esta función cuantas veces sea necesario, \n",
    "Pero hay ocaciones donde contamos con varias condiciones a evaluar, \n",
    "para esto conviene usar elif\n"
   ]
  },
  {
   "cell_type": "code",
   "execution_count": 34,
   "id": "65c5aed6-120c-40ca-8dce-99068847a1a4",
   "metadata": {},
   "outputs": [
    {
     "name": "stdout",
     "output_type": "stream",
     "text": [
      "string corto\n"
     ]
    }
   ],
   "source": [
    "var_string = 'Hello world'\n",
    "if len(var_string) > 1 and   len(var_string) < 15:\n",
    "    print('string corto')\n",
    "elif len(var_string) > 15:\n",
    "    print('String largo')\n",
    "else:\n",
    "    print('String vacío')\n"
   ]
  },
  {
   "cell_type": "markdown",
   "id": "2117bafd-4de3-461d-9b43-4c569beeea1a",
   "metadata": {},
   "source": [
    "### Iterativas"
   ]
  },
  {
   "cell_type": "markdown",
   "id": "4543943f-d751-40a4-9bbb-cf47fc4b6ca7",
   "metadata": {},
   "source": [
    "### FOR"
   ]
  },
  {
   "cell_type": "code",
   "execution_count": 35,
   "id": "06f45b85-f1a8-43b9-aaec-26863c02bc52",
   "metadata": {},
   "outputs": [
    {
     "name": "stdout",
     "output_type": "stream",
     "text": [
      "Iteration number 0!\n",
      "Iteration number 1!\n",
      "Iteration number 2!\n",
      "Iteration number 3!\n",
      "Iteration number 4!\n"
     ]
    }
   ],
   "source": [
    "total_iter = 5\n",
    "for i in range(total_iter):\n",
    "    print(f'Iteration number {i}!')"
   ]
  },
  {
   "cell_type": "code",
   "execution_count": 37,
   "id": "5417ae9b-3171-449e-bb1b-abdf166213ec",
   "metadata": {},
   "outputs": [
    {
     "name": "stdout",
     "output_type": "stream",
     "text": [
      "Iteration number 1!\n",
      "Iteration number 3!\n"
     ]
    }
   ],
   "source": [
    "total_iter = 5\n",
    "for i in range(1, total_iter, 2):\n",
    "    ## init, step, total (do not include the limit)\n",
    "    print(f'Iteration number {i}!')"
   ]
  },
  {
   "cell_type": "code",
   "execution_count": 38,
   "id": "9fdd8851-45ab-444d-ac6e-1bfb9ed9827b",
   "metadata": {},
   "outputs": [
    {
     "name": "stdout",
     "output_type": "stream",
     "text": [
      "Iteration number 0!\n",
      "Iteration number 1!\n",
      "Iteration number 2!\n",
      "Iteration number 3!\n"
     ]
    }
   ],
   "source": [
    "total_iter = 5\n",
    "for i in range(total_iter):\n",
    "    print(f'Iteration number {i}!')\n",
    "    if i > 2:\n",
    "        break ## ???"
   ]
  },
  {
   "cell_type": "markdown",
   "id": "206aed06-020c-40ff-b3bc-cd64927180c5",
   "metadata": {},
   "source": [
    "### WHILE"
   ]
  },
  {
   "cell_type": "code",
   "execution_count": 39,
   "id": "bb3bf6e8-9166-4ed2-8078-7d94e6a146d2",
   "metadata": {},
   "outputs": [
    {
     "name": "stdout",
     "output_type": "stream",
     "text": [
      "Iteration 0 - a=0\n",
      "Iteration 1 - a=2\n",
      "Iteration 2 - a=4\n",
      "Iteration 3 - a=6\n",
      "Iteration 4 - a=8\n"
     ]
    }
   ],
   "source": [
    "a = 0\n",
    "b = 10\n",
    "c = 0\n",
    "while a < b:\n",
    "    print(f'Iteration {c} - a={a}')\n",
    "    a += 2\n",
    "    c += 1"
   ]
  },
  {
   "cell_type": "code",
   "execution_count": null,
   "id": "346cddf0-6c23-497e-a844-2bae2218a662",
   "metadata": {},
   "outputs": [],
   "source": []
  }
 ],
 "metadata": {
  "kernelspec": {
   "display_name": "Python 3 (ipykernel)",
   "language": "python",
   "name": "python3"
  },
  "language_info": {
   "codemirror_mode": {
    "name": "ipython",
    "version": 3
   },
   "file_extension": ".py",
   "mimetype": "text/x-python",
   "name": "python",
   "nbconvert_exporter": "python",
   "pygments_lexer": "ipython3",
   "version": "3.13.7"
  }
 },
 "nbformat": 4,
 "nbformat_minor": 5
}
