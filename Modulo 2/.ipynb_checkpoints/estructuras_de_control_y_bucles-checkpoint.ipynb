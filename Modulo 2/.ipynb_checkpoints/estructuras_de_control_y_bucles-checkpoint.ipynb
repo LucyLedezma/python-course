{
 "cells": [
  {
   "cell_type": "markdown",
   "id": "cdce14be-2eae-40de-834d-d85d464a744e",
   "metadata": {},
   "source": [
    "## Estructuras de control"
   ]
  },
  {
   "cell_type": "markdown",
   "id": "b896edc6-b45f-4079-a793-80ba6960b9a4",
   "metadata": {},
   "source": [
    "### Condicionales"
   ]
  },
  {
   "cell_type": "code",
   "execution_count": 2,
   "id": "e4804a12-fc6d-4d6b-8709-21e56d4e458b",
   "metadata": {},
   "outputs": [
    {
     "name": "stdout",
     "output_type": "stream",
     "text": [
      "300 > -10\n"
     ]
    }
   ],
   "source": [
    "a = 300\n",
    "b = -10\n",
    "if a > b:\n",
    "\tprint(f'{a} > {b}')\n",
    "elif a == b:\n",
    "\tprint(f'{a} = {b}')\n",
    "else:\n",
    "\tprint(f'{a} < {b}')"
   ]
  },
  {
   "cell_type": "code",
   "execution_count": 1,
   "id": "e43be6c6-9fe9-40f5-a100-9ab5fbda735e",
   "metadata": {},
   "outputs": [
    {
     "name": "stdout",
     "output_type": "stream",
     "text": [
      "son equivalentes\n"
     ]
    }
   ],
   "source": [
    "## cuando estamos programando, en muchas ocaciones necesitaremos realizar acciones basándonos en ciertas situaciones.\n",
    "if 2 == 2:\n",
    "    print('son equivalentes')"
   ]
  },
  {
   "cell_type": "code",
   "execution_count": 8,
   "id": "e68aec8f-7548-4b51-8784-b2605fcd6d74",
   "metadata": {},
   "outputs": [
    {
     "name": "stdout",
     "output_type": "stream",
     "text": [
      "se imprima 2\n",
      "se imprima hello\n"
     ]
    }
   ],
   "source": [
    "# la instrución if nos permite realizar operaciones en base a determinada condición, perooo\n",
    "if 2:\n",
    "    print('se imprima 2') #### =?????\n",
    "    \n",
    "if 'hello':\n",
    "    print('se imprima hello')\n",
    "\n",
    "if []:\n",
    "    print('se imprime lista')\n",
    "if '':\n",
    "    print('se imprime string vacío')\n",
    "if None:\n",
    "    print('se imprime None')\n"
   ]
  },
  {
   "cell_type": "code",
   "execution_count": 7,
   "id": "87a5e06a-5efd-4e01-bc90-8e26b48de4ee",
   "metadata": {},
   "outputs": [],
   "source": [
    "### Esto sucede porque python toma como condición válida a cualquier valor no nullo, y como falso a cualquier valor nulo"
   ]
  },
  {
   "cell_type": "code",
   "execution_count": 9,
   "id": "b39b35a7-c849-446b-9361-f8b64bc01589",
   "metadata": {},
   "outputs": [
    {
     "name": "stdout",
     "output_type": "stream",
     "text": [
      "El string es vació\n"
     ]
    }
   ],
   "source": [
    "## Cuando queremos que por el no cumplimiento de la condición se ejecute otra instrucción\n",
    "if len('') > 0:\n",
    "    print('El string no está vacío')\n",
    "else:\n",
    "    print('El string es vació')\n",
    "    "
   ]
  },
  {
   "cell_type": "markdown",
   "id": "fd62603e-5976-4bb2-bcd3-0f90b4cd7b2b",
   "metadata": {},
   "source": [
    "--- Podemos anidar esta función cuantas veces sea necesario, \n",
    "Pero hay ocaciones donde contamos con varias condiciones a evaluar, \n",
    "para esto conviene usar elif\n"
   ]
  },
  {
   "cell_type": "code",
   "execution_count": 13,
   "id": "65c5aed6-120c-40ca-8dce-99068847a1a4",
   "metadata": {},
   "outputs": [
    {
     "name": "stdout",
     "output_type": "stream",
     "text": [
      "string corto\n"
     ]
    }
   ],
   "source": [
    "var_string = 'Hello world'\n",
    "if len(var_string) > 1 and   len(var_string) < 15:\n",
    "    print('string corto')\n",
    "elif len(var_string) > 15:\n",
    "    print('String largo')\n",
    "else:\n",
    "    print('String vacío')\n"
   ]
  },
  {
   "cell_type": "markdown",
   "id": "2117bafd-4de3-461d-9b43-4c569beeea1a",
   "metadata": {},
   "source": [
    "### Iterativas"
   ]
  },
  {
   "cell_type": "markdown",
   "id": "4543943f-d751-40a4-9bbb-cf47fc4b6ca7",
   "metadata": {},
   "source": [
    "### FOR"
   ]
  },
  {
   "cell_type": "code",
   "execution_count": 3,
   "id": "06f45b85-f1a8-43b9-aaec-26863c02bc52",
   "metadata": {},
   "outputs": [
    {
     "name": "stdout",
     "output_type": "stream",
     "text": [
      "Iteration number 0!\n",
      "Iteration number 1!\n",
      "Iteration number 2!\n",
      "Iteration number 3!\n",
      "Iteration number 4!\n"
     ]
    }
   ],
   "source": [
    "total_iter = 5\n",
    "for i in range(total_iter):\n",
    "    print(f'Iteration number {i}!')"
   ]
  },
  {
   "cell_type": "code",
   "execution_count": 5,
   "id": "5417ae9b-3171-449e-bb1b-abdf166213ec",
   "metadata": {},
   "outputs": [
    {
     "name": "stdout",
     "output_type": "stream",
     "text": [
      "Iteration number 1!\n"
     ]
    }
   ],
   "source": [
    "total_iter = 5\n",
    "for i in range(1, 2, total_iter):\n",
    "    ## init, step, total (do not include the limit)\n",
    "    print(f'Iteration number {i}!')"
   ]
  },
  {
   "cell_type": "code",
   "execution_count": 7,
   "id": "9fdd8851-45ab-444d-ac6e-1bfb9ed9827b",
   "metadata": {},
   "outputs": [
    {
     "name": "stdout",
     "output_type": "stream",
     "text": [
      "Iteration number 0!\n",
      "Iteration number 1!\n",
      "Iteration number 2!\n",
      "Iteration number 3!\n"
     ]
    }
   ],
   "source": [
    "total_iter = 5\n",
    "for i in range(total_iter):\n",
    "    print(f'Iteration number {i}!')\n",
    "    if i > 2:\n",
    "        break ## ???"
   ]
  },
  {
   "cell_type": "markdown",
   "id": "206aed06-020c-40ff-b3bc-cd64927180c5",
   "metadata": {},
   "source": [
    "### WHILE"
   ]
  },
  {
   "cell_type": "code",
   "execution_count": 9,
   "id": "bb3bf6e8-9166-4ed2-8078-7d94e6a146d2",
   "metadata": {},
   "outputs": [
    {
     "name": "stdout",
     "output_type": "stream",
     "text": [
      "Iteration 0 - a=0\n",
      "Iteration 1 - a=2\n",
      "Iteration 2 - a=4\n",
      "Iteration 3 - a=6\n",
      "Iteration 4 - a=8\n"
     ]
    }
   ],
   "source": [
    "a = 0\n",
    "b = 10\n",
    "c = 0\n",
    "while a < b:\n",
    "    print(f'Iteration {c} - a={a}')\n",
    "    a += 2\n",
    "    c += 1"
   ]
  },
  {
   "cell_type": "markdown",
   "id": "8cd0abf4-9c40-493a-a009-c6411955c82f",
   "metadata": {},
   "source": [
    "## Scipting"
   ]
  },
  {
   "cell_type": "code",
   "execution_count": 13,
   "id": "cfca3212-b758-427c-9f41-cf0611a51a29",
   "metadata": {},
   "outputs": [
    {
     "name": "stdout",
     "output_type": "stream",
     "text": [
      "Writing scripts/mi_script.py\n"
     ]
    }
   ],
   "source": [
    "%%writefile scripts/mi_script.py\n",
    "### Mi primer scipt de python\n",
    "## calcular el promedio de edades\n",
    "alumns = [{'name': 'Maria', 'surname': 'Acosta', 'age': 21}, \n",
    "          {'name': 'Martin', 'surname': 'Cáceres', 'age': 23},\n",
    "          {'name': 'Antonio', 'surname': 'Lopez', 'age': 19},\n",
    "          {'name': 'Laura', 'surname': 'Benitez', 'age': 21}\n",
    "         ]\n",
    "total_age = 0\n",
    "for i, alumn in enumerate(alumns):\n",
    "    print(f\"Alumn: {alumn['name']} {alumn['surname']}\"\n",
    "          f\"age: {alumn['age']}\")\n",
    "    total_age += alumn['age']\n",
    "\n",
    "mean_age = total_age // len(alumns)\n",
    "\n",
    "print(f'Mean age: {mean_age}')"
   ]
  },
  {
   "cell_type": "code",
   "execution_count": 14,
   "id": "80ababc0-ace6-45cd-bfbe-904b4c3f5d5a",
   "metadata": {},
   "outputs": [
    {
     "name": "stdout",
     "output_type": "stream",
     "text": [
      "Alumn: Maria Acostaage: 21\n",
      "Alumn: Martin Cáceresage: 23\n",
      "Alumn: Antonio Lopezage: 19\n",
      "Alumn: Laura Benitezage: 21\n",
      "Mean age: 21\n"
     ]
    }
   ],
   "source": [
    "!python scripts/mi_script.py"
   ]
  },
  {
   "cell_type": "code",
   "execution_count": null,
   "id": "1e4d7fc9-f263-41fa-8d21-30e02a36940c",
   "metadata": {},
   "outputs": [],
   "source": []
  }
 ],
 "metadata": {
  "kernelspec": {
   "display_name": "Python 3 (ipykernel)",
   "language": "python",
   "name": "python3"
  },
  "language_info": {
   "codemirror_mode": {
    "name": "ipython",
    "version": 3
   },
   "file_extension": ".py",
   "mimetype": "text/x-python",
   "name": "python",
   "nbconvert_exporter": "python",
   "pygments_lexer": "ipython3",
   "version": "3.10.5"
  }
 },
 "nbformat": 4,
 "nbformat_minor": 5
}
