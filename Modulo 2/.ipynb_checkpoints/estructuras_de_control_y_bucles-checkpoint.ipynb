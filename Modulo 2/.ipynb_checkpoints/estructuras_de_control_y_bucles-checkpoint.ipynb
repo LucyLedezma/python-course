{
 "cells": [
  {
   "cell_type": "markdown",
   "id": "cdce14be-2eae-40de-834d-d85d464a744e",
   "metadata": {},
   "source": [
    "## Estructuras de control"
   ]
  },
  {
   "cell_type": "code",
   "execution_count": 1,
   "id": "e43be6c6-9fe9-40f5-a100-9ab5fbda735e",
   "metadata": {},
   "outputs": [
    {
     "name": "stdout",
     "output_type": "stream",
     "text": [
      "son equivalentes\n"
     ]
    }
   ],
   "source": [
    "## cuando estamos programando, en muchas ocaciones necesitaremos realizar acciones basándonos en ciertas situaciones.\n",
    "if 2 == 2:\n",
    "    print('son equivalentes')"
   ]
  },
  {
   "cell_type": "code",
   "execution_count": 8,
   "id": "e68aec8f-7548-4b51-8784-b2605fcd6d74",
   "metadata": {},
   "outputs": [
    {
     "name": "stdout",
     "output_type": "stream",
     "text": [
      "se imprima 2\n",
      "se imprima hello\n"
     ]
    }
   ],
   "source": [
    "# la instrución if nos permite realizar operaciones en base a determinada condición\n",
    "if 2:\n",
    "    print('se imprima 2') #### =?????\n",
    "    \n",
    "if 'hello':\n",
    "    print('se imprima hello')\n",
    "\n",
    "if []:\n",
    "    print('se imprime lista')\n",
    "if '':\n",
    "    print('se imprime string vacío')\n",
    "if None:\n",
    "    print('se imprime None')\n"
   ]
  },
  {
   "cell_type": "code",
   "execution_count": 7,
   "id": "87a5e06a-5efd-4e01-bc90-8e26b48de4ee",
   "metadata": {},
   "outputs": [],
   "source": [
    "### Esto sucede porque python toma como condición válida a cualquier valor no nullo, y como falso a cualquier valor nulo"
   ]
  },
  {
   "cell_type": "code",
   "execution_count": 9,
   "id": "b39b35a7-c849-446b-9361-f8b64bc01589",
   "metadata": {},
   "outputs": [
    {
     "name": "stdout",
     "output_type": "stream",
     "text": [
      "El string es vació\n"
     ]
    }
   ],
   "source": [
    "## Cuando queremos que por el no cumplimiento de la condición se ejecute otra instrucción\n",
    "if len('') > 0:\n",
    "    print('El string no está vacío')\n",
    "else:\n",
    "    print('El string es vació')\n",
    "    "
   ]
  },
  {
   "cell_type": "markdown",
   "id": "fd62603e-5976-4bb2-bcd3-0f90b4cd7b2b",
   "metadata": {},
   "source": [
    "--- Podemos anidar esta función cuantas veces sea necesario, \n",
    "Pero hay ocaciones donde contamos con varias condiciones a evaluar, \n",
    "para esto conviene usar elif\n"
   ]
  },
  {
   "cell_type": "code",
   "execution_count": 13,
   "id": "65c5aed6-120c-40ca-8dce-99068847a1a4",
   "metadata": {},
   "outputs": [
    {
     "name": "stdout",
     "output_type": "stream",
     "text": [
      "string corto\n"
     ]
    }
   ],
   "source": [
    "var_string = 'Hello world'\n",
    "if len(var_string) > 1 and   len(var_string) < 15:\n",
    "    print('string corto')\n",
    "elif len(var_string) > 15:\n",
    "    print('String largo')\n",
    "else:\n",
    "    print('String vacío')\n"
   ]
  },
  {
   "cell_type": "markdown",
   "id": "2117bafd-4de3-461d-9b43-4c569beeea1a",
   "metadata": {},
   "source": [
    "## Bucles"
   ]
  }
 ],
 "metadata": {
  "kernelspec": {
   "display_name": "Python 3 (ipykernel)",
   "language": "python",
   "name": "python3"
  },
  "language_info": {
   "codemirror_mode": {
    "name": "ipython",
    "version": 3
   },
   "file_extension": ".py",
   "mimetype": "text/x-python",
   "name": "python",
   "nbconvert_exporter": "python",
   "pygments_lexer": "ipython3",
   "version": "3.10.5"
  }
 },
 "nbformat": 4,
 "nbformat_minor": 5
}
