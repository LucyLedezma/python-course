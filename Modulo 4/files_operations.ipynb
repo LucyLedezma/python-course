{
 "cells": [
  {
   "cell_type": "code",
   "execution_count": null,
   "id": "2aaa8587-61c5-41b0-a46f-ec0e52f9c42c",
   "metadata": {},
   "outputs": [],
   "source": [
    "# Programa para mostrar varias formas de leer y\n",
    "# escribir datos en un archivo de texto.\n",
    "\n",
    "file = open(\"myfile.txt\",\"w\")\n",
    "L = [\"This is Lagos \\n\",\"This is Python \\n\",\"This is Fcc \\n\"]\n",
    "\n",
    "# Asignar [\"This is Lagos \\n\",\"This is Python \\n\",\"This is Fcc \\n\"]\n",
    "# a la variable L\n",
    "  \n",
    "#El \\n se coloca para indicar fin de línea\n",
    "\n",
    "file.write(\"Hello There \\n\")\n",
    "file.writelines(L)\n",
    "file.close()\n",
    "# Usar close() para cambiar los modos de acceso a archivos\n",
    "\n",
    "\n",
    "\n",
    "file = open(\"myfile.txt\",\"r+\") \n",
    "print(\"Output of the Read function is \")\n",
    "print(file.read())\n",
    "print()\n",
    "\n",
    "# La función seek(n) Mueve el puntero hacia el byte indicado,\n",
    "# el byte desde el principio.\n",
    "file.seek(0) \n",
    "  \n",
    "print( \"The output of the Readline function is \")\n",
    "print(file.readline()) \n",
    "print()\n",
    "  \n",
    "file.seek(0)\n",
    "  \n",
    "# Mostrar la diferencia entre lectura y línea de lectura\n",
    "\n",
    "print(\"Output of Read(12) function is \") \n",
    "print(file.read(12))\n",
    "print()\n",
    "\n",
    "file.seek(0)\n",
    "  \n",
    "print(\"Output of Readline(8) function is \") \n",
    "print(file.readline(8))\n",
    "  \n",
    "file.seek(0)\n",
    "# Función de lectura de líneas\n",
    "print(\"Output of Readlines function is \") \n",
    "print(file.readlines()) \n",
    "print()\n",
    "file.close()"
   ]
  },
  {
   "cell_type": "code",
   "execution_count": 1,
   "id": "a8a414cf-a9b2-41fb-b9be-4411de1ca677",
   "metadata": {},
   "outputs": [],
   "source": [
    "with open('my_file.txt', 'w') as f:\n",
    "    f.write(\"Hello World!\")"
   ]
  },
  {
   "cell_type": "code",
   "execution_count": null,
   "id": "c7d053e0-530f-4f18-bf42-d9beaa1a9cc3",
   "metadata": {},
   "outputs": [],
   "source": []
  }
 ],
 "metadata": {
  "kernelspec": {
   "display_name": "Python 3 (ipykernel)",
   "language": "python",
   "name": "python3"
  },
  "language_info": {
   "codemirror_mode": {
    "name": "ipython",
    "version": 3
   },
   "file_extension": ".py",
   "mimetype": "text/x-python",
   "name": "python",
   "nbconvert_exporter": "python",
   "pygments_lexer": "ipython3",
   "version": "3.10.5"
  }
 },
 "nbformat": 4,
 "nbformat_minor": 5
}
