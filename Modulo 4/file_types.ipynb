{
 "cells": [
  {
   "cell_type": "markdown",
   "id": "5df9cc2e-5cc4-4707-a927-5fa2bdf04a96",
   "metadata": {},
   "source": [
    "## CSV"
   ]
  },
  {
   "cell_type": "code",
   "execution_count": 1,
   "id": "aa3db18a-10d0-4a52-b4ad-5b0d4797ad26",
   "metadata": {},
   "outputs": [],
   "source": [
    "import csv"
   ]
  },
  {
   "cell_type": "code",
   "execution_count": 38,
   "id": "bed35946-6e1a-4c3d-bd4d-137795123a90",
   "metadata": {},
   "outputs": [],
   "source": [
    "with open('eggs.csv', 'w', newline='') as csvfile:\n",
    "    spamwriter = csv.writer(csvfile, delimiter=',',\n",
    "                            quotechar='|', quoting=csv.QUOTE_MINIMAL)\n",
    "    columns = ['col_0', 'col_1', 'col_2']\n",
    "    \n",
    "    spamwriter.writerow(columns)\n",
    "    spamwriter.writerow(['Spam', 'Lovely Spam', 'Wonderful Spam'])"
   ]
  },
  {
   "cell_type": "code",
   "execution_count": 41,
   "id": "4e4a91ef-2a75-46a3-89b2-3feea9588222",
   "metadata": {},
   "outputs": [
    {
     "name": "stdout",
     "output_type": "stream",
     "text": [
      "Header: ['col_0', 'col_1', 'col_2']\n",
      "Row: ['Spam', 'Lovely Spam', 'Wonderful Spam']\n",
      "Values: {'col_0': 'Spam', 'col_1': 'Lovely Spam', 'col_2': 'Wonderful Spam'}\n"
     ]
    }
   ],
   "source": [
    "with open('eggs.csv', 'r') as csvfile:\n",
    "    csvreader = csv.reader(csvfile)\n",
    "    # Optionally, read the header row separately\n",
    "    header = next(csvreader)\n",
    "    print(f\"Header: {header}\")\n",
    "    # Iterate and print each data row\n",
    "    for row in csvreader:\n",
    "        print(f\"Row: {row}\")\n",
    "        print(f'Values: {dict(zip(header, row))}')"
   ]
  },
  {
   "cell_type": "code",
   "execution_count": 40,
   "id": "e8e69179-be69-4032-adec-fac0400730aa",
   "metadata": {},
   "outputs": [
    {
     "data": {
      "text/html": [
       "<div>\n",
       "<style scoped>\n",
       "    .dataframe tbody tr th:only-of-type {\n",
       "        vertical-align: middle;\n",
       "    }\n",
       "\n",
       "    .dataframe tbody tr th {\n",
       "        vertical-align: top;\n",
       "    }\n",
       "\n",
       "    .dataframe thead th {\n",
       "        text-align: right;\n",
       "    }\n",
       "</style>\n",
       "<table border=\"1\" class=\"dataframe\">\n",
       "  <thead>\n",
       "    <tr style=\"text-align: right;\">\n",
       "      <th></th>\n",
       "      <th>col_0</th>\n",
       "      <th>col_1</th>\n",
       "      <th>col_2</th>\n",
       "    </tr>\n",
       "  </thead>\n",
       "  <tbody>\n",
       "    <tr>\n",
       "      <th>0</th>\n",
       "      <td>Spam</td>\n",
       "      <td>Lovely Spam</td>\n",
       "      <td>Wonderful Spam</td>\n",
       "    </tr>\n",
       "  </tbody>\n",
       "</table>\n",
       "</div>"
      ],
      "text/plain": [
       "  col_0        col_1           col_2\n",
       "0  Spam  Lovely Spam  Wonderful Spam"
      ]
     },
     "execution_count": 40,
     "metadata": {},
     "output_type": "execute_result"
    }
   ],
   "source": [
    "import pandas as pd\n",
    "df_ = pd.read_csv('eggs.csv')\n",
    "df_"
   ]
  },
  {
   "cell_type": "markdown",
   "id": "9722c809-ed38-4d1a-9caa-56e8c34ac8b6",
   "metadata": {},
   "source": [
    "## JSON"
   ]
  },
  {
   "cell_type": "code",
   "execution_count": 3,
   "id": "a027b5d0-bbce-486a-ab34-27576d5b5347",
   "metadata": {},
   "outputs": [],
   "source": [
    "import json"
   ]
  },
  {
   "cell_type": "code",
   "execution_count": 5,
   "id": "b18c02b9-d8ea-4c57-8402-2b8bf5e680a9",
   "metadata": {},
   "outputs": [],
   "source": [
    "data = {'name': 'Mark', 'surname': 'Houstom'}"
   ]
  },
  {
   "cell_type": "code",
   "execution_count": 6,
   "id": "02e71346-5ebe-4453-a491-4c3ac2de94dd",
   "metadata": {},
   "outputs": [
    {
     "data": {
      "text/plain": [
       "'{\"name\": \"Mark\", \"surname\": \"Houstom\"}'"
      ]
     },
     "execution_count": 6,
     "metadata": {},
     "output_type": "execute_result"
    }
   ],
   "source": [
    "serialized_data = json.dumps(data)\n",
    "serialized_data"
   ]
  },
  {
   "cell_type": "code",
   "execution_count": 8,
   "id": "136e91a4-e5a6-480d-ad2b-e78a66c61a0c",
   "metadata": {},
   "outputs": [
    {
     "data": {
      "text/plain": [
       "{'name': 'Mark', 'surname': 'Houstom'}"
      ]
     },
     "execution_count": 8,
     "metadata": {},
     "output_type": "execute_result"
    }
   ],
   "source": [
    "deserialized_data = json.loads(serialized_data)\n",
    "deserialized_data"
   ]
  },
  {
   "cell_type": "markdown",
   "id": "0e56df2d-99ac-47d6-ae5c-b6d44ac8907f",
   "metadata": {},
   "source": [
    "### write a json file"
   ]
  },
  {
   "cell_type": "code",
   "execution_count": 11,
   "id": "b4b58c50-6f60-43d8-ad27-96ca62e1c847",
   "metadata": {},
   "outputs": [],
   "source": [
    "with open('my_file.json', 'w') as f:\n",
    "    json.dump([data] * 10, f)"
   ]
  },
  {
   "cell_type": "markdown",
   "id": "cad20d07-d326-48da-8b9d-942311ae9b1d",
   "metadata": {},
   "source": [
    "### read a json file"
   ]
  },
  {
   "cell_type": "code",
   "execution_count": 13,
   "id": "cab1500b-fbd1-47c2-a01f-ec1e195f00c8",
   "metadata": {},
   "outputs": [
    {
     "data": {
      "text/plain": [
       "[{'name': 'Mark', 'surname': 'Houstom'},\n",
       " {'name': 'Mark', 'surname': 'Houstom'},\n",
       " {'name': 'Mark', 'surname': 'Houstom'},\n",
       " {'name': 'Mark', 'surname': 'Houstom'},\n",
       " {'name': 'Mark', 'surname': 'Houstom'},\n",
       " {'name': 'Mark', 'surname': 'Houstom'},\n",
       " {'name': 'Mark', 'surname': 'Houstom'},\n",
       " {'name': 'Mark', 'surname': 'Houstom'},\n",
       " {'name': 'Mark', 'surname': 'Houstom'},\n",
       " {'name': 'Mark', 'surname': 'Houstom'}]"
      ]
     },
     "execution_count": 13,
     "metadata": {},
     "output_type": "execute_result"
    }
   ],
   "source": [
    "with open('my_file.json', 'r') as f:\n",
    "    result = json.load(f)\n",
    "result"
   ]
  },
  {
   "cell_type": "markdown",
   "id": "e9e4a3e6-492e-46d4-948b-e170b7c78612",
   "metadata": {},
   "source": [
    "## Parquet"
   ]
  },
  {
   "cell_type": "code",
   "execution_count": 1,
   "id": "8a81e9a4-1c22-40b4-8b27-b3f043982e04",
   "metadata": {},
   "outputs": [],
   "source": [
    "import pandas as pd"
   ]
  },
  {
   "cell_type": "code",
   "execution_count": 2,
   "id": "9db254b8-cde0-4445-8383-2422f9260653",
   "metadata": {},
   "outputs": [
    {
     "data": {
      "text/html": [
       "<div>\n",
       "<style scoped>\n",
       "    .dataframe tbody tr th:only-of-type {\n",
       "        vertical-align: middle;\n",
       "    }\n",
       "\n",
       "    .dataframe tbody tr th {\n",
       "        vertical-align: top;\n",
       "    }\n",
       "\n",
       "    .dataframe thead th {\n",
       "        text-align: right;\n",
       "    }\n",
       "</style>\n",
       "<table border=\"1\" class=\"dataframe\">\n",
       "  <thead>\n",
       "    <tr style=\"text-align: right;\">\n",
       "      <th></th>\n",
       "      <th>Name</th>\n",
       "      <th>Age</th>\n",
       "      <th>City</th>\n",
       "    </tr>\n",
       "  </thead>\n",
       "  <tbody>\n",
       "    <tr>\n",
       "      <th>0</th>\n",
       "      <td>Alice</td>\n",
       "      <td>25</td>\n",
       "      <td>New York</td>\n",
       "    </tr>\n",
       "    <tr>\n",
       "      <th>1</th>\n",
       "      <td>Bob</td>\n",
       "      <td>30</td>\n",
       "      <td>Los Angeles</td>\n",
       "    </tr>\n",
       "    <tr>\n",
       "      <th>2</th>\n",
       "      <td>Charlie</td>\n",
       "      <td>35</td>\n",
       "      <td>Chicago</td>\n",
       "    </tr>\n",
       "  </tbody>\n",
       "</table>\n",
       "</div>"
      ],
      "text/plain": [
       "      Name  Age         City\n",
       "0    Alice   25     New York\n",
       "1      Bob   30  Los Angeles\n",
       "2  Charlie   35      Chicago"
      ]
     },
     "execution_count": 2,
     "metadata": {},
     "output_type": "execute_result"
    }
   ],
   "source": [
    "# Crea un DataFrame de ejemplo\n",
    "data = {\n",
    "    \"Name\": [\"Alice\", \"Bob\", \"Charlie\"],\n",
    "    \"Age\": [25, 30, 35],\n",
    "    \"City\": [\"New York\", \"Los Angeles\", \"Chicago\"]\n",
    "}\n",
    "df = pd.DataFrame(data)\n",
    "df"
   ]
  },
  {
   "cell_type": "code",
   "execution_count": 3,
   "id": "63c471e6",
   "metadata": {},
   "outputs": [
    {
     "name": "stdout",
     "output_type": "stream",
     "text": [
      "DataFrame guardado como mi_dataframe.parquet\n"
     ]
    }
   ],
   "source": [
    "# Guarda el DataFrame como un archivo Parquet\n",
    "df.to_parquet(\"mi_df.parquet\", engine=\"pyarrow\", index=False)\n",
    "\n",
    "print(\"DataFrame guardado como mi_dataframe.parquet\")"
   ]
  },
  {
   "cell_type": "code",
   "execution_count": 4,
   "id": "9f6238c0",
   "metadata": {},
   "outputs": [
    {
     "data": {
      "text/html": [
       "<div>\n",
       "<style scoped>\n",
       "    .dataframe tbody tr th:only-of-type {\n",
       "        vertical-align: middle;\n",
       "    }\n",
       "\n",
       "    .dataframe tbody tr th {\n",
       "        vertical-align: top;\n",
       "    }\n",
       "\n",
       "    .dataframe thead th {\n",
       "        text-align: right;\n",
       "    }\n",
       "</style>\n",
       "<table border=\"1\" class=\"dataframe\">\n",
       "  <thead>\n",
       "    <tr style=\"text-align: right;\">\n",
       "      <th></th>\n",
       "      <th>Name</th>\n",
       "      <th>Age</th>\n",
       "      <th>City</th>\n",
       "    </tr>\n",
       "  </thead>\n",
       "  <tbody>\n",
       "    <tr>\n",
       "      <th>0</th>\n",
       "      <td>Alice</td>\n",
       "      <td>25</td>\n",
       "      <td>New York</td>\n",
       "    </tr>\n",
       "    <tr>\n",
       "      <th>1</th>\n",
       "      <td>Bob</td>\n",
       "      <td>30</td>\n",
       "      <td>Los Angeles</td>\n",
       "    </tr>\n",
       "    <tr>\n",
       "      <th>2</th>\n",
       "      <td>Charlie</td>\n",
       "      <td>35</td>\n",
       "      <td>Chicago</td>\n",
       "    </tr>\n",
       "  </tbody>\n",
       "</table>\n",
       "</div>"
      ],
      "text/plain": [
       "      Name  Age         City\n",
       "0    Alice   25     New York\n",
       "1      Bob   30  Los Angeles\n",
       "2  Charlie   35      Chicago"
      ]
     },
     "execution_count": 4,
     "metadata": {},
     "output_type": "execute_result"
    }
   ],
   "source": [
    "# tambien pandas nos permite leer este tipo de archivos\n",
    "df_pq = pd.read_parquet(\"mi_df.parquet\")\n",
    "df_pq"
   ]
  },
  {
   "cell_type": "code",
   "execution_count": null,
   "id": "bd10564a-d0ef-444b-b505-c5dd96bec67a",
   "metadata": {},
   "outputs": [],
   "source": []
  }
 ],
 "metadata": {
  "kernelspec": {
   "display_name": "Python (my_environment_new)",
   "language": "python",
   "name": "my_environment"
  },
  "language_info": {
   "codemirror_mode": {
    "name": "ipython",
    "version": 3
   },
   "file_extension": ".py",
   "mimetype": "text/x-python",
   "name": "python",
   "nbconvert_exporter": "python",
   "pygments_lexer": "ipython3",
   "version": "3.13.7"
  }
 },
 "nbformat": 4,
 "nbformat_minor": 5
}
