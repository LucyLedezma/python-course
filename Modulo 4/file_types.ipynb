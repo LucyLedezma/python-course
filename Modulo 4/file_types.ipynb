{
 "cells": [
  {
   "cell_type": "markdown",
   "id": "5df9cc2e-5cc4-4707-a927-5fa2bdf04a96",
   "metadata": {},
   "source": [
    "## CSV"
   ]
  },
  {
   "cell_type": "code",
   "execution_count": 1,
   "id": "aa3db18a-10d0-4a52-b4ad-5b0d4797ad26",
   "metadata": {},
   "outputs": [],
   "source": [
    "import csv"
   ]
  },
  {
   "cell_type": "code",
   "execution_count": 2,
   "id": "bed35946-6e1a-4c3d-bd4d-137795123a90",
   "metadata": {},
   "outputs": [],
   "source": [
    "with open('eggs.csv', 'w', newline='') as csvfile:\n",
    "    spamwriter = csv.writer(csvfile, delimiter=' ',\n",
    "                            quotechar='|', quoting=csv.QUOTE_MINIMAL)\n",
    "    spamwriter.writerow(['Spam'] * 5 + ['Baked Beans'])\n",
    "    spamwriter.writerow(['Spam', 'Lovely Spam', 'Wonderful Spam'])"
   ]
  },
  {
   "cell_type": "markdown",
   "id": "9722c809-ed38-4d1a-9caa-56e8c34ac8b6",
   "metadata": {},
   "source": [
    "## JSON"
   ]
  },
  {
   "cell_type": "code",
   "execution_count": 4,
   "id": "a027b5d0-bbce-486a-ab34-27576d5b5347",
   "metadata": {},
   "outputs": [],
   "source": [
    "import json"
   ]
  },
  {
   "cell_type": "code",
   "execution_count": 5,
   "id": "b18c02b9-d8ea-4c57-8402-2b8bf5e680a9",
   "metadata": {},
   "outputs": [],
   "source": [
    "data = {'name': 'Mark', 'surname': 'Houstom'}"
   ]
  },
  {
   "cell_type": "code",
   "execution_count": 6,
   "id": "02e71346-5ebe-4453-a491-4c3ac2de94dd",
   "metadata": {},
   "outputs": [
    {
     "data": {
      "text/plain": [
       "'{\"name\": \"Mark\", \"surname\": \"Houstom\"}'"
      ]
     },
     "execution_count": 6,
     "metadata": {},
     "output_type": "execute_result"
    }
   ],
   "source": [
    "serialized_data = json.dumps(data)\n",
    "serialized_data"
   ]
  },
  {
   "cell_type": "code",
   "execution_count": 8,
   "id": "136e91a4-e5a6-480d-ad2b-e78a66c61a0c",
   "metadata": {},
   "outputs": [
    {
     "data": {
      "text/plain": [
       "{'name': 'Mark', 'surname': 'Houstom'}"
      ]
     },
     "execution_count": 8,
     "metadata": {},
     "output_type": "execute_result"
    }
   ],
   "source": [
    "deserialized_data = json.loads(serialized_data)\n",
    "deserialized_data"
   ]
  },
  {
   "cell_type": "markdown",
   "id": "0e56df2d-99ac-47d6-ae5c-b6d44ac8907f",
   "metadata": {},
   "source": [
    "### write a json file"
   ]
  },
  {
   "cell_type": "code",
   "execution_count": 11,
   "id": "b4b58c50-6f60-43d8-ad27-96ca62e1c847",
   "metadata": {},
   "outputs": [],
   "source": [
    "with open('my_file.json', 'w') as f:\n",
    "    json.dump([data] * 10, f)"
   ]
  },
  {
   "cell_type": "markdown",
   "id": "cad20d07-d326-48da-8b9d-942311ae9b1d",
   "metadata": {},
   "source": [
    "### read a json file"
   ]
  },
  {
   "cell_type": "code",
   "execution_count": 13,
   "id": "cab1500b-fbd1-47c2-a01f-ec1e195f00c8",
   "metadata": {},
   "outputs": [
    {
     "data": {
      "text/plain": [
       "[{'name': 'Mark', 'surname': 'Houstom'},\n",
       " {'name': 'Mark', 'surname': 'Houstom'},\n",
       " {'name': 'Mark', 'surname': 'Houstom'},\n",
       " {'name': 'Mark', 'surname': 'Houstom'},\n",
       " {'name': 'Mark', 'surname': 'Houstom'},\n",
       " {'name': 'Mark', 'surname': 'Houstom'},\n",
       " {'name': 'Mark', 'surname': 'Houstom'},\n",
       " {'name': 'Mark', 'surname': 'Houstom'},\n",
       " {'name': 'Mark', 'surname': 'Houstom'},\n",
       " {'name': 'Mark', 'surname': 'Houstom'}]"
      ]
     },
     "execution_count": 13,
     "metadata": {},
     "output_type": "execute_result"
    }
   ],
   "source": [
    "with open('my_file.json', 'r') as f:\n",
    "    result = json.load(f)\n",
    "result"
   ]
  },
  {
   "cell_type": "markdown",
   "id": "e9e4a3e6-492e-46d4-948b-e170b7c78612",
   "metadata": {},
   "source": [
    "## Parquet"
   ]
  },
  {
   "cell_type": "code",
   "execution_count": 1,
   "id": "8a81e9a4-1c22-40b4-8b27-b3f043982e04",
   "metadata": {},
   "outputs": [],
   "source": [
    "import pandas as pd\n",
    "import pyarrow as pa\n",
    "import pyarrow.parquet as pq"
   ]
  },
  {
   "cell_type": "code",
   "execution_count": 2,
   "id": "9db254b8-cde0-4445-8383-2422f9260653",
   "metadata": {},
   "outputs": [],
   "source": [
    "\n",
    "\n",
    "# Create a sample DataFrame\n",
    "df = pd.DataFrame({\n",
    "    'Name': ['Ricky', 'Mary', 'Elizabeth'],\n",
    "    'Age': [25, 30, 35],\n",
    "    'Salary': [50000, 60000, 70000]\n",
    "})"
   ]
  },
  {
   "cell_type": "code",
   "execution_count": 3,
   "id": "a87d3719",
   "metadata": {},
   "outputs": [],
   "source": [
    "# Convert the DataFrame to an Arrow Table\n",
    "table = pa.Table.from_pandas(df)\n",
    "\n",
    "# Write to a Parquet file\n",
    "pq.write_table(table, 'employees.parquet')"
   ]
  },
  {
   "cell_type": "code",
   "execution_count": null,
   "id": "63c471e6",
   "metadata": {},
   "outputs": [],
   "source": []
  }
 ],
 "metadata": {
  "kernelspec": {
   "display_name": "my_environment",
   "language": "python",
   "name": "python3"
  },
  "language_info": {
   "codemirror_mode": {
    "name": "ipython",
    "version": 3
   },
   "file_extension": ".py",
   "mimetype": "text/x-python",
   "name": "python",
   "nbconvert_exporter": "python",
   "pygments_lexer": "ipython3",
   "version": "3.10.5"
  }
 },
 "nbformat": 4,
 "nbformat_minor": 5
}
