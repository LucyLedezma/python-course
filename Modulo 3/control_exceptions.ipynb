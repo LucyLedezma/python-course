{
 "cells": [
  {
   "cell_type": "markdown",
   "id": "8e07fab9",
   "metadata": {},
   "source": [
    "## Python Exceptions"
   ]
  },
  {
   "cell_type": "code",
   "execution_count": 2,
   "id": "c795cf00",
   "metadata": {},
   "outputs": [
    {
     "ename": "Exception",
     "evalue": "This is an error!",
     "output_type": "error",
     "traceback": [
      "\u001b[31m---------------------------------------------------------------------------\u001b[39m",
      "\u001b[31mException\u001b[39m                                 Traceback (most recent call last)",
      "\u001b[36mCell\u001b[39m\u001b[36m \u001b[39m\u001b[32mIn[2]\u001b[39m\u001b[32m, line 1\u001b[39m\n\u001b[32m----> \u001b[39m\u001b[32m1\u001b[39m \u001b[38;5;28;01mraise\u001b[39;00m \u001b[38;5;167;01mException\u001b[39;00m(\u001b[33m'\u001b[39m\u001b[33mThis is an error!\u001b[39m\u001b[33m'\u001b[39m)\n",
      "\u001b[31mException\u001b[39m: This is an error!"
     ]
    }
   ],
   "source": [
    "raise Exception('This is an error!')"
   ]
  },
  {
   "cell_type": "code",
   "execution_count": 4,
   "id": "f226158e",
   "metadata": {},
   "outputs": [
    {
     "ename": "ZeroDivisionError",
     "evalue": "division by zero",
     "output_type": "error",
     "traceback": [
      "\u001b[31m---------------------------------------------------------------------------\u001b[39m",
      "\u001b[31mZeroDivisionError\u001b[39m                         Traceback (most recent call last)",
      "\u001b[36mCell\u001b[39m\u001b[36m \u001b[39m\u001b[32mIn[4]\u001b[39m\u001b[32m, line 7\u001b[39m\n\u001b[32m      4\u001b[39m \u001b[38;5;28;01mdef\u001b[39;00m\u001b[38;5;250m \u001b[39m\u001b[34mdivide\u001b[39m(a: \u001b[38;5;28mfloat\u001b[39m, b: \u001b[38;5;28mfloat\u001b[39m):\n\u001b[32m      5\u001b[39m     \u001b[38;5;28;01mreturn\u001b[39;00m a/b\n\u001b[32m----> \u001b[39m\u001b[32m7\u001b[39m \u001b[43mdivide\u001b[49m\u001b[43m(\u001b[49m\u001b[32;43m0\u001b[39;49m\u001b[43m,\u001b[49m\u001b[43m \u001b[49m\u001b[32;43m0\u001b[39;49m\u001b[43m)\u001b[49m\n",
      "\u001b[36mCell\u001b[39m\u001b[36m \u001b[39m\u001b[32mIn[4]\u001b[39m\u001b[32m, line 5\u001b[39m, in \u001b[36mdivide\u001b[39m\u001b[34m(a, b)\u001b[39m\n\u001b[32m      4\u001b[39m \u001b[38;5;28;01mdef\u001b[39;00m\u001b[38;5;250m \u001b[39m\u001b[34mdivide\u001b[39m(a: \u001b[38;5;28mfloat\u001b[39m, b: \u001b[38;5;28mfloat\u001b[39m):\n\u001b[32m----> \u001b[39m\u001b[32m5\u001b[39m     \u001b[38;5;28;01mreturn\u001b[39;00m \u001b[43ma\u001b[49m\u001b[43m/\u001b[49m\u001b[43mb\u001b[49m\n",
      "\u001b[31mZeroDivisionError\u001b[39m: division by zero"
     ]
    }
   ],
   "source": [
    "## Como podemos asegurar que nuestro código termine de manera correcta?\n",
    "## Aveces durante la ejecución de nuestro código pueden suceder errores inesperados o excepciones.\n",
    "## estas excepciones interrumpen la ejecución normal y hacer que el programa termine con error\n",
    "def divide(a: float, b: float):\n",
    "    return a/b\n",
    "\n",
    "divide(0, 0)"
   ]
  },
  {
   "cell_type": "code",
   "execution_count": 5,
   "id": "529bb2ff",
   "metadata": {},
   "outputs": [
    {
     "name": "stdout",
     "output_type": "stream",
     "text": [
      "error division by zero\n",
      "This intriction will always be executed!\n"
     ]
    }
   ],
   "source": [
    "a = 100\n",
    "b = 0\n",
    "try:\n",
    "    divide(a, b)\n",
    "except ZeroDivisionError as e:\n",
    "    print(f'error {e}')\n",
    "except Exception as e2:\n",
    "    print(f'Unknown exception {e2}')\n",
    "    raise e2\n",
    "finally:\n",
    "    print('This intriction will always be executed!')"
   ]
  }
 ],
 "metadata": {
  "kernelspec": {
   "display_name": "my_environment",
   "language": "python",
   "name": "python3"
  },
  "language_info": {
   "codemirror_mode": {
    "name": "ipython",
    "version": 3
   },
   "file_extension": ".py",
   "mimetype": "text/x-python",
   "name": "python",
   "nbconvert_exporter": "python",
   "pygments_lexer": "ipython3",
   "version": "3.13.7"
  }
 },
 "nbformat": 4,
 "nbformat_minor": 5
}
