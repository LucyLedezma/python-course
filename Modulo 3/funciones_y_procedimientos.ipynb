{
 "cells": [
  {
   "cell_type": "markdown",
   "id": "94cdc751-a785-4ecb-9212-1e3cc9e9e159",
   "metadata": {},
   "source": [
    "# Funciones"
   ]
  },
  {
   "cell_type": "code",
   "execution_count": null,
   "id": "c7da1540-f776-49dc-b4c8-2d228d1cd7fc",
   "metadata": {},
   "outputs": [],
   "source": [
    "## Vamos a contruir nuestras primeras funciones en python, "
   ]
  },
  {
   "cell_type": "code",
   "execution_count": 3,
   "id": "dfb586f7-94b9-42ed-bd42-1be597f4e561",
   "metadata": {},
   "outputs": [],
   "source": [
    "def sum(a: float, b: float) -> float: ## observemos que estamos usando tipado, pero en python no es presindible hacerlo\n",
    "    result = a + b\n",
    "    return result"
   ]
  },
  {
   "cell_type": "code",
   "execution_count": 2,
   "id": "4625120c-14fc-4a4b-b3c5-fb085b0aeb30",
   "metadata": {},
   "outputs": [
    {
     "data": {
      "text/plain": [
       "105.7"
      ]
     },
     "execution_count": 2,
     "metadata": {},
     "output_type": "execute_result"
    }
   ],
   "source": [
    "sum(100, 5.7)"
   ]
  },
  {
   "cell_type": "raw",
   "id": "af92c033-905a-48ef-a8f1-c49e6e9f93d8",
   "metadata": {
    "vscode": {
     "languageId": "raw"
    }
   },
   "source": [
    "Una función en python puede devolver \"más de un valor\", pero lo que realmente sucede es que si detecta mas de un valor de retorno empaqueta todos los resultados en una tupla, veamos el siguiente ejemplo:"
   ]
  },
  {
   "cell_type": "code",
   "execution_count": 2,
   "id": "047b467c-49dc-4980-9016-01d1757d0d63",
   "metadata": {},
   "outputs": [],
   "source": [
    "from typing import Tuple\n",
    "def process_full_name(name: str, surname: str) -> Tuple[str, str]:\n",
    "    capitalized_full_name = f'{name.capitalize()} {surname.capitalize()}'\n",
    "    lowercase_full_name = f'{name} {surname}'.lower()\n",
    "    uppercase_full_name =  f'{name} {surname}'.upper()\n",
    "    return capitalized_full_name, lowercase_full_name, uppercase_full_name"
   ]
  },
  {
   "cell_type": "code",
   "execution_count": 3,
   "id": "992d0a0a-d5d1-4c41-9a09-26432c8ccbcb",
   "metadata": {},
   "outputs": [
    {
     "data": {
      "text/plain": [
       "('Robert Jackson', 'robert jackson', 'ROBERT JACKSON')"
      ]
     },
     "execution_count": 3,
     "metadata": {},
     "output_type": "execute_result"
    }
   ],
   "source": [
    "result = process_full_name('Robert', 'jackson')\n",
    "result"
   ]
  },
  {
   "cell_type": "code",
   "execution_count": 4,
   "id": "9470ef65-4dda-4a29-9c9b-7f8588d87958",
   "metadata": {},
   "outputs": [
    {
     "data": {
      "text/plain": [
       "tuple"
      ]
     },
     "execution_count": 4,
     "metadata": {},
     "output_type": "execute_result"
    }
   ],
   "source": [
    "type(result)"
   ]
  },
  {
   "cell_type": "code",
   "execution_count": 5,
   "id": "32a9be3e-2c34-4fd8-9f01-c1e5f8aacd2b",
   "metadata": {},
   "outputs": [],
   "source": [
    "capitalized, lowercase, uppercase = process_full_name('Robert', 'jackson')"
   ]
  },
  {
   "cell_type": "code",
   "execution_count": 6,
   "id": "4810e82b-b484-4230-98aa-f0b9e6bde643",
   "metadata": {},
   "outputs": [
    {
     "data": {
      "text/plain": [
       "'Robert Jackson'"
      ]
     },
     "execution_count": 6,
     "metadata": {},
     "output_type": "execute_result"
    }
   ],
   "source": [
    "capitalized"
   ]
  },
  {
   "cell_type": "code",
   "execution_count": 10,
   "id": "ed2c7516",
   "metadata": {},
   "outputs": [],
   "source": [
    "capitalized, *other = process_full_name('Robert', 'jackson')"
   ]
  },
  {
   "cell_type": "code",
   "execution_count": 15,
   "id": "aed36994",
   "metadata": {},
   "outputs": [
    {
     "data": {
      "text/plain": [
       "'robert jackson'"
      ]
     },
     "execution_count": 15,
     "metadata": {},
     "output_type": "execute_result"
    }
   ],
   "source": [
    "other[0]"
   ]
  },
  {
   "cell_type": "code",
   "execution_count": 25,
   "id": "30d1b7f1-6e54-4f48-8e90-035dae622664",
   "metadata": {},
   "outputs": [],
   "source": [
    "## como pudimos ver, siempre devuelve un solo valor, si el return contiene varios elementos, \n",
    "## entonces lo convierte en tupla,\n",
    "## pero estos pueden ser desempaquetados mediante el uso de varias variables en la asginación del resultado."
   ]
  },
  {
   "cell_type": "markdown",
   "id": "46c3ecf8-c303-45a1-aa83-d7e3b2226b33",
   "metadata": {},
   "source": [
    "## *args y **kwargs"
   ]
  },
  {
   "cell_type": "code",
   "execution_count": 28,
   "id": "137289fc-f3c1-4fab-812b-fc2ccd5cf2cc",
   "metadata": {},
   "outputs": [],
   "source": [
    "def check_args(first_arg: str, *args):\n",
    "    print(f'Mandatory argument:{first_arg}')\n",
    "    for i, arg in enumerate(args):\n",
    "        print(f'Argument [{i}] of *args: {arg}')"
   ]
  },
  {
   "cell_type": "code",
   "execution_count": 29,
   "id": "582f996a-88ff-48e7-a3a1-a2d6995db995",
   "metadata": {},
   "outputs": [
    {
     "name": "stdout",
     "output_type": "stream",
     "text": [
      "Mandatory argument:100\n",
      "Argument [0] of *args: Hello\n",
      "Argument [1] of *args: 500\n"
     ]
    }
   ],
   "source": [
    "check_args(100, \"Hello\", 500)"
   ]
  },
  {
   "cell_type": "code",
   "execution_count": 34,
   "id": "2e57bf26-cf31-45f2-838a-e10f0ee8b208",
   "metadata": {},
   "outputs": [],
   "source": [
    "## los argumentos en args se  asginan en una tupla"
   ]
  },
  {
   "cell_type": "code",
   "execution_count": 54,
   "id": "c29979dd-f087-496b-b99d-c8422977dbb8",
   "metadata": {},
   "outputs": [],
   "source": [
    "def check_args(first_arg: str, *args):\n",
    "    print(type(args), args)\n",
    "    print(f'Mandatory argument:{first_arg}')\n",
    "    for i, arg in enumerate(args):\n",
    "        print(f'Argument [{i}] of *args: {arg}')"
   ]
  },
  {
   "cell_type": "code",
   "execution_count": 32,
   "id": "4839e8ab-d4f8-4069-9a24-be228145de19",
   "metadata": {},
   "outputs": [
    {
     "name": "stdout",
     "output_type": "stream",
     "text": [
      "<class 'tuple'> ('Hello', 500)\n",
      "Mandatory argument:100\n",
      "Argument [0] of *args: Hello\n",
      "Argument [1] of *args: 500\n"
     ]
    }
   ],
   "source": [
    "check_args(100, \"Hello\", 500)"
   ]
  },
  {
   "cell_type": "code",
   "execution_count": 46,
   "id": "d2aad998-a940-49bd-90a9-76e2a36cb542",
   "metadata": {},
   "outputs": [],
   "source": [
    "def check_kwargs(first_arg: str, **kwargs):\n",
    "    print(f'Mandatory argument:{first_arg}')\n",
    "    for i, (key, value) in enumerate(kwargs.items()):\n",
    "        print(f'Name [{i}] of *kwargs: {key} - Value: {value}')"
   ]
  },
  {
   "cell_type": "code",
   "execution_count": 47,
   "id": "73140897-2ee7-4039-b45c-9dab01b2ac29",
   "metadata": {},
   "outputs": [
    {
     "name": "stdout",
     "output_type": "stream",
     "text": [
      "Mandatory argument:100\n",
      "Name [0] of *kwargs: total - Value: 500\n",
      "Name [1] of *kwargs: percent - Value: 60\n"
     ]
    }
   ],
   "source": [
    "check_kwargs(100, total=500, percent=60)"
   ]
  },
  {
   "cell_type": "code",
   "execution_count": 53,
   "id": "399668ee-6920-457f-bbb8-97572d655ff3",
   "metadata": {},
   "outputs": [],
   "source": [
    "## TODO - Crea una función suma usando *args\n",
    "def suma(*args):\n",
    "    ..."
   ]
  },
  {
   "cell_type": "code",
   "execution_count": 55,
   "id": "bca8fda2-747e-47f4-9d35-1c56c156e0f0",
   "metadata": {},
   "outputs": [
    {
     "name": "stdout",
     "output_type": "stream",
     "text": [
      "<class 'tuple'> (25, 50)\n",
      "Mandatory argument:100\n",
      "Argument [0] of *args: 25\n",
      "Argument [1] of *args: 50\n"
     ]
    }
   ],
   "source": [
    "## TIPS - pasar parámetros args y kwargs\n",
    "args = [25, 50]\n",
    "check_args(100, *args)"
   ]
  },
  {
   "cell_type": "code",
   "execution_count": 56,
   "id": "47b38747-d3b9-4774-b9fe-a767aafb086f",
   "metadata": {},
   "outputs": [
    {
     "name": "stdout",
     "output_type": "stream",
     "text": [
      "Mandatory argument:100\n",
      "Name [0] of *kwargs: firs_name - Value: Luisa\n",
      "Name [1] of *kwargs: Surname - Value: Robinson\n"
     ]
    }
   ],
   "source": [
    "kwargs = {'firs_name': 'Luisa', 'Surname': 'Robinson'}\n",
    "check_kwargs(100, **kwargs)"
   ]
  },
  {
   "cell_type": "markdown",
   "id": "eca437fd-e22e-44ec-b28d-c182b215ce85",
   "metadata": {},
   "source": [
    "## Instalar paquetes externos"
   ]
  },
  {
   "cell_type": "code",
   "execution_count": 1,
   "id": "4fe10017-397d-4d92-b97b-f010ab91be54",
   "metadata": {},
   "outputs": [
    {
     "name": "stdout",
     "output_type": "stream",
     "text": [
      "pip 22.0.4 from C:\\Program Files\\Python310\\lib\\site-packages\\pip (python 3.10)\n",
      "\n"
     ]
    }
   ],
   "source": [
    "!pip --version"
   ]
  },
  {
   "cell_type": "code",
   "execution_count": 2,
   "id": "5836096a-9629-4215-9856-9231b3035150",
   "metadata": {},
   "outputs": [
    {
     "name": "stdout",
     "output_type": "stream",
     "text": [
      "Package                   Version\n",
      "------------------------- --------------\n",
      "anyio                     4.10.0\n",
      "argon2-cffi               25.1.0\n",
      "argon2-cffi-bindings      25.1.0\n",
      "arrow                     1.3.0\n",
      "asttokens                 3.0.0\n",
      "async-lru                 2.0.5\n",
      "attrs                     25.3.0\n",
      "babel                     2.17.0\n",
      "beautifulsoup4            4.13.4\n",
      "bleach                    6.2.0\n",
      "certifi                   2022.6.15\n",
      "cffi                      1.17.1\n",
      "charset-normalizer        3.4.3\n",
      "colorama                  0.4.6\n",
      "comm                      0.2.3\n",
      "debugpy                   1.8.16\n",
      "decorator                 5.2.1\n",
      "defusedxml                0.7.1\n",
      "distlib                   0.3.4\n",
      "distributionslibraryuda   0.1\n",
      "exceptiongroup            1.3.0\n",
      "executing                 2.2.0\n",
      "fastjsonschema            2.21.1\n",
      "filelock                  3.7.1\n",
      "fqdn                      1.5.1\n",
      "h11                       0.16.0\n",
      "httpcore                  1.0.9\n",
      "httpx                     0.28.1\n",
      "idna                      3.10\n",
      "ipykernel                 6.30.1\n",
      "ipython                   8.37.0\n",
      "ipython-genutils          0.2.0\n",
      "isoduration               20.11.0\n",
      "jedi                      0.19.2\n",
      "Jinja2                    3.1.6\n",
      "json5                     0.12.0\n",
      "jsonpointer               3.0.0\n",
      "jsonschema                4.25.0\n",
      "jsonschema-specifications 2025.4.1\n",
      "jupyter_client            8.6.3\n",
      "jupyter_core              5.8.1\n",
      "jupyter-events            0.12.0\n",
      "jupyter-lsp               2.2.6\n",
      "jupyter_server            2.16.0\n",
      "jupyter_server_terminals  0.5.3\n",
      "jupyterlab                4.4.5\n",
      "jupyterlab_pygments       0.3.0\n",
      "jupyterlab_server         2.27.3\n",
      "lark                      1.2.2\n",
      "MarkupSafe                3.0.2\n",
      "matplotlib-inline         0.1.7\n",
      "mistune                   3.1.3\n",
      "nbclient                  0.10.2\n",
      "nbconvert                 7.16.6\n",
      "nbformat                  5.10.4\n",
      "nest-asyncio              1.6.0\n",
      "notebook_shim             0.2.4\n",
      "overrides                 7.7.0\n",
      "packaging                 25.0\n",
      "pandocfilters             1.5.1\n",
      "parso                     0.8.4\n",
      "pip                       22.0.4\n",
      "pipenv                    2022.7.4\n",
      "platformdirs              2.5.2\n",
      "prometheus_client         0.22.1\n",
      "prompt_toolkit            3.0.51\n",
      "psutil                    7.0.0\n",
      "pure_eval                 0.2.3\n",
      "pycparser                 2.22\n",
      "Pygments                  2.19.2\n",
      "python-dateutil           2.9.0.post0\n",
      "python-json-logger        3.3.0\n",
      "pywin32                   311\n",
      "pywinpty                  2.0.15\n",
      "PyYAML                    6.0.2\n",
      "pyzmq                     27.0.1\n",
      "referencing               0.36.2\n",
      "requests                  2.32.4\n",
      "rfc3339-validator         0.1.4\n",
      "rfc3986-validator         0.1.1\n",
      "rfc3987-syntax            1.1.0\n",
      "rpds-py                   0.27.0\n",
      "Send2Trash                1.8.3\n",
      "setuptools                58.1.0\n",
      "six                       1.16.0\n",
      "sniffio                   1.3.1\n",
      "soupsieve                 2.7\n",
      "stack-data                0.6.3\n",
      "terminado                 0.18.1\n",
      "tinycss2                  1.4.0\n",
      "tomli                     2.0.1\n",
      "tornado                   6.5.2\n",
      "traitlets                 5.14.3\n",
      "types-python-dateutil     2.9.0.20250809\n",
      "typing_extensions         4.14.1\n",
      "uri-template              1.3.0\n",
      "urllib3                   2.5.0\n",
      "virtualenv                20.15.1\n",
      "virtualenv-clone          0.5.7\n",
      "wcwidth                   0.2.13\n",
      "webcolors                 24.11.1\n",
      "webencodings              0.5.1\n",
      "websocket-client          1.8.0\n",
      "yapf                      0.33.0\n",
      "Note: you may need to restart the kernel to use updated packages.\n"
     ]
    },
    {
     "name": "stderr",
     "output_type": "stream",
     "text": [
      "WARNING: You are using pip version 22.0.4; however, version 25.2 is available.\n",
      "You should consider upgrading via the 'C:\\Program Files\\Python310\\python.exe -m pip install --upgrade pip' command.\n"
     ]
    }
   ],
   "source": [
    "pip list"
   ]
  },
  {
   "cell_type": "code",
   "execution_count": 1,
   "id": "eab6fd61-d7d8-4686-b504-5b09fb6aad1e",
   "metadata": {},
   "outputs": [
    {
     "name": "stdout",
     "output_type": "stream",
     "text": [
      "Defaulting to user installation because normal site-packages is not writeable\n",
      "Collecting numpy\n",
      "  Using cached numpy-2.2.6-cp310-cp310-win_amd64.whl (12.9 MB)\n",
      "Installing collected packages: numpy\n",
      "Successfully installed numpy-2.2.6\n",
      "Note: you may need to restart the kernel to use updated packages.\n"
     ]
    },
    {
     "name": "stderr",
     "output_type": "stream",
     "text": [
      "WARNING: You are using pip version 22.0.4; however, version 25.2 is available.\n",
      "You should consider upgrading via the 'C:\\Program Files\\Python310\\python.exe -m pip install --upgrade pip' command.\n"
     ]
    }
   ],
   "source": [
    "pip install numpy"
   ]
  },
  {
   "cell_type": "markdown",
   "id": "642e7856-b9bb-4dca-b15f-08b45a5ef41b",
   "metadata": {},
   "source": [
    "### Trabajemos un poco con arreglos!"
   ]
  },
  {
   "cell_type": "code",
   "execution_count": 2,
   "id": "f62fe484-8287-462a-923f-5986d3ee62b5",
   "metadata": {},
   "outputs": [],
   "source": [
    "import numpy as np"
   ]
  },
  {
   "cell_type": "code",
   "execution_count": 3,
   "id": "41a2340a-6349-415d-8999-b0362368b054",
   "metadata": {},
   "outputs": [],
   "source": [
    "my_arr = np.asarray([0.3, 7, 8, 90])"
   ]
  },
  {
   "cell_type": "code",
   "execution_count": 4,
   "id": "a6458b09-c633-4ea8-9e7a-f703bf7b6d54",
   "metadata": {},
   "outputs": [
    {
     "data": {
      "text/plain": [
       "array([ 0.3,  7. ,  8. , 90. ])"
      ]
     },
     "execution_count": 4,
     "metadata": {},
     "output_type": "execute_result"
    }
   ],
   "source": [
    "my_arr"
   ]
  },
  {
   "cell_type": "code",
   "execution_count": 5,
   "id": "7f89ad01-a9ae-4b02-a3f9-f9efc2e70a0a",
   "metadata": {},
   "outputs": [
    {
     "data": {
      "text/plain": [
       "(4,)"
      ]
     },
     "execution_count": 5,
     "metadata": {},
     "output_type": "execute_result"
    }
   ],
   "source": [
    "my_arr.shape"
   ]
  },
  {
   "cell_type": "code",
   "execution_count": 17,
   "id": "41b50b25-1cca-446d-9884-92c1ab61fba8",
   "metadata": {},
   "outputs": [
    {
     "data": {
      "text/plain": [
       "(np.float64(105.3),\n",
       " np.float64(26.325),\n",
       " np.float64(0.3),\n",
       " np.float64(90.0),\n",
       " np.float64(36.88179598392681))"
      ]
     },
     "execution_count": 17,
     "metadata": {},
     "output_type": "execute_result"
    }
   ],
   "source": [
    "my_arr.sum(), my_arr.mean(), my_arr.min(),  my_arr.max(),  my_arr.std()"
   ]
  }
 ],
 "metadata": {
  "kernelspec": {
   "display_name": "Python 3 (ipykernel)",
   "language": "python",
   "name": "python3"
  },
  "language_info": {
   "codemirror_mode": {
    "name": "ipython",
    "version": 3
   },
   "file_extension": ".py",
   "mimetype": "text/x-python",
   "name": "python",
   "nbconvert_exporter": "python",
   "pygments_lexer": "ipython3",
   "version": "3.13.7"
  }
 },
 "nbformat": 4,
 "nbformat_minor": 5
}
