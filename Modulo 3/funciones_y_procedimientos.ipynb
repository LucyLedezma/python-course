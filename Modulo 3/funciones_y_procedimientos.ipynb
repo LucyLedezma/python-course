{
 "cells": [
  {
   "cell_type": "markdown",
   "id": "94cdc751-a785-4ecb-9212-1e3cc9e9e159",
   "metadata": {},
   "source": [
    "# Funciones"
   ]
  },
  {
   "cell_type": "code",
   "execution_count": null,
   "id": "c7da1540-f776-49dc-b4c8-2d228d1cd7fc",
   "metadata": {},
   "outputs": [],
   "source": [
    "## Vamos a contruir nuestras primeras funciones en python, "
   ]
  },
  {
   "cell_type": "code",
   "execution_count": 3,
   "id": "dfb586f7-94b9-42ed-bd42-1be597f4e561",
   "metadata": {},
   "outputs": [],
   "source": [
    "def sum(a: float, b: float) -> float: ## observemos que estamos usando tipado, pero en python no es presindible hacerlo\n",
    "    result = a + b\n",
    "    return result"
   ]
  },
  {
   "cell_type": "code",
   "execution_count": 2,
   "id": "4625120c-14fc-4a4b-b3c5-fb085b0aeb30",
   "metadata": {},
   "outputs": [
    {
     "data": {
      "text/plain": [
       "105.7"
      ]
     },
     "execution_count": 2,
     "metadata": {},
     "output_type": "execute_result"
    }
   ],
   "source": [
    "sum(100, 5.7)"
   ]
  },
  {
   "cell_type": "raw",
   "id": "af92c033-905a-48ef-a8f1-c49e6e9f93d8",
   "metadata": {},
   "source": [
    "Una función en python puede devolver \"más de un valor\", pero lo que realmente sucede es que si detecta mas de un valor de retorno empaqueta todos los reusltados en una tupla, veamos el siguiente ejemplo:"
   ]
  },
  {
   "cell_type": "code",
   "execution_count": 14,
   "id": "047b467c-49dc-4980-9016-01d1757d0d63",
   "metadata": {},
   "outputs": [],
   "source": [
    "from typing import Tuple\n",
    "def process_full_name(name: str, surname: str) -> Tuple[str, str]:\n",
    "    capitalized_full_name = f'{name.capitalize()} {surname.capitalize()}'\n",
    "    lowercase_full_name = f'{name} {surname}'.lower()\n",
    "    uppercase_full_name =  f'{name} {surname}'.upper()\n",
    "    return capitalized_full_name, lowercase_full_name, uppercase_full_name"
   ]
  },
  {
   "cell_type": "code",
   "execution_count": 21,
   "id": "992d0a0a-d5d1-4c41-9a09-26432c8ccbcb",
   "metadata": {},
   "outputs": [
    {
     "data": {
      "text/plain": [
       "('Robert Jackson', 'robert jackson', 'ROBERT JACKSON')"
      ]
     },
     "execution_count": 21,
     "metadata": {},
     "output_type": "execute_result"
    }
   ],
   "source": [
    "result = process_full_name('Robert', 'jackson')\n",
    "result"
   ]
  },
  {
   "cell_type": "code",
   "execution_count": 23,
   "id": "9470ef65-4dda-4a29-9c9b-7f8588d87958",
   "metadata": {},
   "outputs": [
    {
     "data": {
      "text/plain": [
       "tuple"
      ]
     },
     "execution_count": 23,
     "metadata": {},
     "output_type": "execute_result"
    }
   ],
   "source": [
    "type(result)"
   ]
  },
  {
   "cell_type": "code",
   "execution_count": 16,
   "id": "32a9be3e-2c34-4fd8-9f01-c1e5f8aacd2b",
   "metadata": {},
   "outputs": [],
   "source": [
    "capitalized, lowercase, uppercase = process_user('Robert', 'jackson')"
   ]
  },
  {
   "cell_type": "code",
   "execution_count": 17,
   "id": "4810e82b-b484-4230-98aa-f0b9e6bde643",
   "metadata": {},
   "outputs": [
    {
     "data": {
      "text/plain": [
       "'Robert Jackson'"
      ]
     },
     "execution_count": 17,
     "metadata": {},
     "output_type": "execute_result"
    }
   ],
   "source": [
    "capitalized"
   ]
  },
  {
   "cell_type": "code",
   "execution_count": 25,
   "id": "30d1b7f1-6e54-4f48-8e90-035dae622664",
   "metadata": {},
   "outputs": [],
   "source": [
    "## como pudimos ver, siempre devuelve un solo valor, si el return contiene varios elementos, \n",
    "## entonces lo convierte en tupla,\n",
    "## pero estos pueden ser desempaquetados mediante el uso de varias variables en la asginación del resultado."
   ]
  },
  {
   "cell_type": "markdown",
   "id": "46c3ecf8-c303-45a1-aa83-d7e3b2226b33",
   "metadata": {},
   "source": [
    "## *args y **kwargs"
   ]
  },
  {
   "cell_type": "code",
   "execution_count": 28,
   "id": "137289fc-f3c1-4fab-812b-fc2ccd5cf2cc",
   "metadata": {},
   "outputs": [],
   "source": [
    "def check_args(first_arg: str, *args):\n",
    "    print(f'Mandatory argument:{first_arg}')\n",
    "    for i, arg in enumerate(args):\n",
    "        print(f'Argument [{i}] of *args: {arg}')"
   ]
  },
  {
   "cell_type": "code",
   "execution_count": 29,
   "id": "582f996a-88ff-48e7-a3a1-a2d6995db995",
   "metadata": {},
   "outputs": [
    {
     "name": "stdout",
     "output_type": "stream",
     "text": [
      "Mandatory argument:100\n",
      "Argument [0] of *args: Hello\n",
      "Argument [1] of *args: 500\n"
     ]
    }
   ],
   "source": [
    "check_args(100, \"Hello\", 500)"
   ]
  },
  {
   "cell_type": "code",
   "execution_count": 34,
   "id": "2e57bf26-cf31-45f2-838a-e10f0ee8b208",
   "metadata": {},
   "outputs": [],
   "source": [
    "## los argumentos en args se  asginan en una tupla"
   ]
  },
  {
   "cell_type": "code",
   "execution_count": 54,
   "id": "c29979dd-f087-496b-b99d-c8422977dbb8",
   "metadata": {},
   "outputs": [],
   "source": [
    "def check_args(first_arg: str, *args):\n",
    "    print(type(args), args)\n",
    "    print(f'Mandatory argument:{first_arg}')\n",
    "    for i, arg in enumerate(args):\n",
    "        print(f'Argument [{i}] of *args: {arg}')"
   ]
  },
  {
   "cell_type": "code",
   "execution_count": 32,
   "id": "4839e8ab-d4f8-4069-9a24-be228145de19",
   "metadata": {},
   "outputs": [
    {
     "name": "stdout",
     "output_type": "stream",
     "text": [
      "<class 'tuple'> ('Hello', 500)\n",
      "Mandatory argument:100\n",
      "Argument [0] of *args: Hello\n",
      "Argument [1] of *args: 500\n"
     ]
    }
   ],
   "source": [
    "check_args(100, \"Hello\", 500)"
   ]
  },
  {
   "cell_type": "code",
   "execution_count": 46,
   "id": "d2aad998-a940-49bd-90a9-76e2a36cb542",
   "metadata": {},
   "outputs": [],
   "source": [
    "def check_kwargs(first_arg: str, **kwargs):\n",
    "    print(f'Mandatory argument:{first_arg}')\n",
    "    for i, (key, value) in enumerate(kwargs.items()):\n",
    "        print(f'Name [{i}] of *kwargs: {key} - Value: {value}')"
   ]
  },
  {
   "cell_type": "code",
   "execution_count": 47,
   "id": "73140897-2ee7-4039-b45c-9dab01b2ac29",
   "metadata": {},
   "outputs": [
    {
     "name": "stdout",
     "output_type": "stream",
     "text": [
      "Mandatory argument:100\n",
      "Name [0] of *kwargs: total - Value: 500\n",
      "Name [1] of *kwargs: percent - Value: 60\n"
     ]
    }
   ],
   "source": [
    "check_kwargs(100, total=500, percent=60)"
   ]
  },
  {
   "cell_type": "code",
   "execution_count": 53,
   "id": "399668ee-6920-457f-bbb8-97572d655ff3",
   "metadata": {},
   "outputs": [],
   "source": [
    "## TODO - Crea una función suma usando *args\n",
    "def suma(*args):\n",
    "    ..."
   ]
  },
  {
   "cell_type": "code",
   "execution_count": 55,
   "id": "bca8fda2-747e-47f4-9d35-1c56c156e0f0",
   "metadata": {},
   "outputs": [
    {
     "name": "stdout",
     "output_type": "stream",
     "text": [
      "<class 'tuple'> (25, 50)\n",
      "Mandatory argument:100\n",
      "Argument [0] of *args: 25\n",
      "Argument [1] of *args: 50\n"
     ]
    }
   ],
   "source": [
    "## TIPS - pasar parámetros args y kwargs\n",
    "args = [25, 50]\n",
    "check_args(100, *args)"
   ]
  },
  {
   "cell_type": "code",
   "execution_count": 56,
   "id": "47b38747-d3b9-4774-b9fe-a767aafb086f",
   "metadata": {},
   "outputs": [
    {
     "name": "stdout",
     "output_type": "stream",
     "text": [
      "Mandatory argument:100\n",
      "Name [0] of *kwargs: firs_name - Value: Luisa\n",
      "Name [1] of *kwargs: Surname - Value: Robinson\n"
     ]
    }
   ],
   "source": [
    "kwargs = {'firs_name': 'Luisa', 'Surname': 'Robinson'}\n",
    "check_kwargs(100, **kwargs)"
   ]
  }
 ],
 "metadata": {
  "kernelspec": {
   "display_name": "Python 3 (ipykernel)",
   "language": "python",
   "name": "python3"
  },
  "language_info": {
   "codemirror_mode": {
    "name": "ipython",
    "version": 3
   },
   "file_extension": ".py",
   "mimetype": "text/x-python",
   "name": "python",
   "nbconvert_exporter": "python",
   "pygments_lexer": "ipython3",
   "version": "3.10.5"
  }
 },
 "nbformat": 4,
 "nbformat_minor": 5
}
